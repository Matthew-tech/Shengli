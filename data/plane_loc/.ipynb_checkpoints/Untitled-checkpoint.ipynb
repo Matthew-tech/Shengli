{
 "cells": [
  {
   "cell_type": "code",
   "execution_count": 1,
   "metadata": {
    "collapsed": true
   },
   "outputs": [],
   "source": [
    "import numpy as np"
   ]
  },
  {
   "cell_type": "code",
   "execution_count": 7,
   "metadata": {
    "collapsed": true
   },
   "outputs": [],
   "source": [
    "data = np.load(\"plane_data.npy\")"
   ]
  },
  {
   "cell_type": "code",
   "execution_count": 8,
   "metadata": {},
   "outputs": [
    {
     "data": {
      "text/plain": [
       "array([  4.05650958e-02,  -1.52432668e+00,  -2.11544776e+00,\n",
       "        -2.44750047e+00,  -2.45681763e+00,  -2.13521266e+00,\n",
       "        -5.84935490e-03,  -4.49670733e-05,   2.74392823e-05,\n",
       "         3.27863870e-03,   4.09284607e-03,   3.43541149e-03,\n",
       "         2.10426189e-03,   2.64804345e-03,   3.68781807e-03,\n",
       "         9.63833928e-03,   6.42247545e-03,   7.56910909e-03,\n",
       "         8.09234660e-03,   9.45374183e-03,  -2.70653842e-03,\n",
       "        -7.07071391e-04,  -4.61399043e-03,   5.09618828e-03,\n",
       "         3.44519364e-03,   4.25067637e-03,   1.83854674e-04,\n",
       "         4.91484208e-03,   9.62500274e-03,   4.28842492e-02,\n",
       "         1.24517800e-02,  -6.62116148e-03,   1.09457038e-03,\n",
       "         9.82561382e-04,  -3.93464509e-03,  -4.97655990e-03,\n",
       "         1.78087282e+00,   1.87526572e+00,   1.84970093e+00,\n",
       "         1.69624400e+00,  -7.86518794e-04,  -7.85711629e-04,\n",
       "        -2.04292577e-04,  -1.44735450e-05,  -1.99889660e+00,\n",
       "        -2.15934277e+00,  -2.04052234e+00,  -1.76608717e+00,\n",
       "        -2.70469093e+00,  -7.74550205e-03,  -8.87114167e-01,\n",
       "        -4.09467220e+00,  -7.98010051e-01,  -3.03350508e-01,\n",
       "         4.31035738e-03,  -6.60927221e-03,  -1.26554930e+00,\n",
       "        -2.12837148e+00,  -6.88255997e-03,  -1.04063628e-02,\n",
       "        -6.51912950e-03,  -8.80831759e-03,  -8.44521169e-03,\n",
       "        -6.56627212e-03,   9.11352632e-04,  -8.32565478e-04,\n",
       "        -6.76705921e-03,  -5.13096200e-03,   6.04835851e-03,\n",
       "        -2.51062226e+00,  -2.57648134e+00,  -9.82002169e-03,\n",
       "        -1.93631220e+00,  -2.96466494e+00,  -2.49846911e+00,\n",
       "        -2.07975721e+00], dtype=float32)"
      ]
     },
     "execution_count": 8,
     "metadata": {},
     "output_type": "execute_result"
    }
   ],
   "source": [
    "data[0,:]"
   ]
  },
  {
   "cell_type": "code",
   "execution_count": 5,
   "metadata": {},
   "outputs": [
    {
     "data": {
      "text/plain": [
       "1089624"
      ]
     },
     "execution_count": 5,
     "metadata": {},
     "output_type": "execute_result"
    }
   ],
   "source": [
    "1641*664"
   ]
  },
  {
   "cell_type": "code",
   "execution_count": null,
   "metadata": {
    "collapsed": true
   },
   "outputs": [],
   "source": []
  }
 ],
 "metadata": {
  "kernelspec": {
   "display_name": "Python 3",
   "language": "python",
   "name": "python3"
  },
  "language_info": {
   "codemirror_mode": {
    "name": "ipython",
    "version": 3
   },
   "file_extension": ".py",
   "mimetype": "text/x-python",
   "name": "python",
   "nbconvert_exporter": "python",
   "pygments_lexer": "ipython3",
   "version": "3.6.2"
  }
 },
 "nbformat": 4,
 "nbformat_minor": 2
}
