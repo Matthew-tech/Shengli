{
 "cells": [
  {
   "cell_type": "code",
   "execution_count": 1,
   "metadata": {},
   "outputs": [],
   "source": [
    "import pandas as pd"
   ]
  },
  {
   "cell_type": "code",
   "execution_count": 3,
   "metadata": {},
   "outputs": [],
   "source": [
    "mean_std=pd.read_pickle(\"/disk3/zk/aboutoil/Shengli/Results/max_min_mean_std_new.pkl\")"
   ]
  },
  {
   "cell_type": "code",
   "execution_count": 6,
   "metadata": {},
   "outputs": [
    {
     "data": {
      "text/plain": [
       "dict_keys(['Amplitude-WeightedApparentPolarity.sgy', 'Amplitude-WeightedInstantaneousFrequency', 'Amplitude-WeightedInstantaneousFrequency_20hz', 'Amplitude-WeightedInstantaneousFrequency_30hz', 'Amplitude-WeightedInstantaneousFrequency_40hz', 'Amplitude-WeightedInstantaneousFrequency_50hz', 'Amplitude-WeightedInstantaneousPhase', 'Amplitude-WeightedInstantaneousPhase_40hz', 'Amplitude-WeightedInstantaneousPhase_50hz', 'AngleStack(0-8)_all', 'AngleStack(10-15)_all', 'AngleStack(13-18)_all', 'AngleStack(15-20)_all', 'AngleStack(20-25)_all', 'AngleStack(25-30)_all', 'AngleStack(25-35)_all', 'AngleStack(28-33)_all', 'AngleStack(30-35)_all', 'AngleStack(33-38)_all', 'AngleStack(35-40)_all', 'AngleStack(5-10)_all', 'AngleStack(5-15)_all', 'AngleStack(8-13)_all', 'AngleStack15-25', 'AngleStack18-23', 'AngleStack23-28', 'CDD_bigdata_from_petrel.sgy', 'Differentitation', 'FluidFactor', 'Integration', 'Lambda_Rho', 'Mu_Rho', 'P-WaveImpedanceReflectivity', 'P-WaveVelocityReflectivity', 'S-WaveImpedanceReflectivity', 'S-WaveVelocityReflectivity', 'SecondDerivativeEnvelope_20hz', 'SecondDerivativeEnvelope_30hz', 'SecondDerivativeEnvelope_40hz', 'SecondDerivativeEnvelope_50hz', 'SignalAmplitude_20hz', 'SignalAmplitude_30hz', 'SignalAmplitude_40hz', 'SignalAmplitude_50hz', 'SignalEnvelope_20hz', 'SignalEnvelope_30hz', 'SignalEnvelope_40hz', 'SignalEnvelope_50hz', 'SingalEnvelope', 'petrel_ Structural_smoothing_attr.sgy', 'petrel_3D_curvature_attr.sgy', 'petrel_Amplitude_contrast_attr.sgy', 'petrel_Dip_deviation_attr.sgy', 'petrel_Dip_illumination_attr.sgy', 'petrel_First_derivative_attr.sgy', 'petrel_Frequency_filter_attr.sgy', 'petrel_Generalized_Spectral_Decomposition_attr.sgy', 'petrel_Gradient_magnitude_attr.sgy', 'petrel_Graphic_equalizer_attr.sgy', 'petrel_Median_filter_attr.sgy', 'petrel_Original_Amplitude_attr.sgy', 'petrel_Quadrature_amplitude_attr.sgy', 'petrel_Relative_acoustic_impedance_attr.sgy', 'petrel_Remove_bias_attr.sgy', 'petrel_Second_derivative_attr.sgy', 'petrel_Time_gain_attr.sgy', 'petrel_Trace_AGC_attr.sgy', 'petrel_Trace_AGC_iterative_attr.sgy', 'petrel_Trace_gradient_attr.sgy', 'petrel_chaos_attr.sgy', 'petrel_envelope_attr.sgy', 'petrel_instantaneous_phase_attr.sgy', 'petrel_reflection_intensity_attr.sgy', 'petrel_rms_Iterative_amplitude_attr.sgy', 'petrel_rms_amplitude_attr.sgy', 'petrel_sweet_attr.sgy'])"
      ]
     },
     "execution_count": 6,
     "metadata": {},
     "output_type": "execute_result"
    }
   ],
   "source": [
    "mean_std.keys()"
   ]
  },
  {
   "cell_type": "code",
   "execution_count": 7,
   "metadata": {},
   "outputs": [],
   "source": [
    "fileindex = {}\n",
    "for feature_index, feature in enumerate(mean_std.keys()):\n",
    "        fileindex[feature] = feature_index"
   ]
  },
  {
   "cell_type": "code",
   "execution_count": 8,
   "metadata": {},
   "outputs": [
    {
     "data": {
      "text/plain": [
       "{'Amplitude-WeightedApparentPolarity.sgy': 0,\n",
       " 'Amplitude-WeightedInstantaneousFrequency': 1,\n",
       " 'Amplitude-WeightedInstantaneousFrequency_20hz': 2,\n",
       " 'Amplitude-WeightedInstantaneousFrequency_30hz': 3,\n",
       " 'Amplitude-WeightedInstantaneousFrequency_40hz': 4,\n",
       " 'Amplitude-WeightedInstantaneousFrequency_50hz': 5,\n",
       " 'Amplitude-WeightedInstantaneousPhase': 6,\n",
       " 'Amplitude-WeightedInstantaneousPhase_40hz': 7,\n",
       " 'Amplitude-WeightedInstantaneousPhase_50hz': 8,\n",
       " 'AngleStack(0-8)_all': 9,\n",
       " 'AngleStack(10-15)_all': 10,\n",
       " 'AngleStack(13-18)_all': 11,\n",
       " 'AngleStack(15-20)_all': 12,\n",
       " 'AngleStack(20-25)_all': 13,\n",
       " 'AngleStack(25-30)_all': 14,\n",
       " 'AngleStack(25-35)_all': 15,\n",
       " 'AngleStack(28-33)_all': 16,\n",
       " 'AngleStack(30-35)_all': 17,\n",
       " 'AngleStack(33-38)_all': 18,\n",
       " 'AngleStack(35-40)_all': 19,\n",
       " 'AngleStack(5-10)_all': 20,\n",
       " 'AngleStack(5-15)_all': 21,\n",
       " 'AngleStack(8-13)_all': 22,\n",
       " 'AngleStack15-25': 23,\n",
       " 'AngleStack18-23': 24,\n",
       " 'AngleStack23-28': 25,\n",
       " 'CDD_bigdata_from_petrel.sgy': 26,\n",
       " 'Differentitation': 27,\n",
       " 'FluidFactor': 28,\n",
       " 'Integration': 29,\n",
       " 'Lambda_Rho': 30,\n",
       " 'Mu_Rho': 31,\n",
       " 'P-WaveImpedanceReflectivity': 32,\n",
       " 'P-WaveVelocityReflectivity': 33,\n",
       " 'S-WaveImpedanceReflectivity': 34,\n",
       " 'S-WaveVelocityReflectivity': 35,\n",
       " 'SecondDerivativeEnvelope_20hz': 36,\n",
       " 'SecondDerivativeEnvelope_30hz': 37,\n",
       " 'SecondDerivativeEnvelope_40hz': 38,\n",
       " 'SecondDerivativeEnvelope_50hz': 39,\n",
       " 'SignalAmplitude_20hz': 40,\n",
       " 'SignalAmplitude_30hz': 41,\n",
       " 'SignalAmplitude_40hz': 42,\n",
       " 'SignalAmplitude_50hz': 43,\n",
       " 'SignalEnvelope_20hz': 44,\n",
       " 'SignalEnvelope_30hz': 45,\n",
       " 'SignalEnvelope_40hz': 46,\n",
       " 'SignalEnvelope_50hz': 47,\n",
       " 'SingalEnvelope': 48,\n",
       " 'petrel_ Structural_smoothing_attr.sgy': 49,\n",
       " 'petrel_3D_curvature_attr.sgy': 50,\n",
       " 'petrel_Amplitude_contrast_attr.sgy': 51,\n",
       " 'petrel_Dip_deviation_attr.sgy': 52,\n",
       " 'petrel_Dip_illumination_attr.sgy': 53,\n",
       " 'petrel_First_derivative_attr.sgy': 54,\n",
       " 'petrel_Frequency_filter_attr.sgy': 55,\n",
       " 'petrel_Generalized_Spectral_Decomposition_attr.sgy': 56,\n",
       " 'petrel_Gradient_magnitude_attr.sgy': 57,\n",
       " 'petrel_Graphic_equalizer_attr.sgy': 58,\n",
       " 'petrel_Median_filter_attr.sgy': 59,\n",
       " 'petrel_Original_Amplitude_attr.sgy': 60,\n",
       " 'petrel_Quadrature_amplitude_attr.sgy': 61,\n",
       " 'petrel_Relative_acoustic_impedance_attr.sgy': 62,\n",
       " 'petrel_Remove_bias_attr.sgy': 63,\n",
       " 'petrel_Second_derivative_attr.sgy': 64,\n",
       " 'petrel_Time_gain_attr.sgy': 65,\n",
       " 'petrel_Trace_AGC_attr.sgy': 66,\n",
       " 'petrel_Trace_AGC_iterative_attr.sgy': 67,\n",
       " 'petrel_Trace_gradient_attr.sgy': 68,\n",
       " 'petrel_chaos_attr.sgy': 69,\n",
       " 'petrel_envelope_attr.sgy': 70,\n",
       " 'petrel_instantaneous_phase_attr.sgy': 71,\n",
       " 'petrel_reflection_intensity_attr.sgy': 72,\n",
       " 'petrel_rms_Iterative_amplitude_attr.sgy': 73,\n",
       " 'petrel_rms_amplitude_attr.sgy': 74,\n",
       " 'petrel_sweet_attr.sgy': 75}"
      ]
     },
     "execution_count": 8,
     "metadata": {},
     "output_type": "execute_result"
    }
   ],
   "source": [
    "fileindex"
   ]
  },
  {
   "cell_type": "code",
   "execution_count": 21,
   "metadata": {
    "scrolled": true
   },
   "outputs": [
    {
     "data": {
      "text/plain": [
       "['petrel_Gradient_magnitude_attr',\n",
       " 'petrel_Trace_gradient_attr',\n",
       " 'petrel_Quadrature_amplitude_attr',\n",
       " 'petrel_First_derivative_attr',\n",
       " 'petrel_envelope_attr',\n",
       " 'petrel_rms_amplitude_attr',\n",
       " 'petrel_reflection_intensity_attr',\n",
       " 'CDD_bigdata_from_petrel',\n",
       " 'petrel_Second_derivative_attr',\n",
       " 'petrel_rms_Iterative_amplitude_attr',\n",
       " 'petrel_Trace_AGC_attr',\n",
       " 'petrel_Remove_bias_attr',\n",
       " 'petrel_Original_Amplitude_attr',\n",
       " 'AngleStack18-23',\n",
       " 'AngleStack(20-25)_all',\n",
       " 'petrel_Graphic_equalizer_attr',\n",
       " 'petrel_Frequency_filter_attr',\n",
       " 'Differentitation',\n",
       " 'AngleStack15-25',\n",
       " 'petrel_Time_gain_attr',\n",
       " 'AngleStack23-28',\n",
       " 'petrel_ Structural_smoothing_attr',\n",
       " 'SingalEnvelope',\n",
       " 'P-WaveVelocityReflectivity',\n",
       " 'petrel_Relative_acoustic_impedance_attr',\n",
       " 'AngleStack(25-30)_all',\n",
       " 'P-WaveImpedanceReflectivity',\n",
       " 'petrel_Trace_AGC_iterative_attr',\n",
       " 'Amplitude-WeightedInstantaneousPhase',\n",
       " 'AngleStack(25-35)_all',\n",
       " 'petrel_Median_filter_attr',\n",
       " 'AngleStack(28-33)_all',\n",
       " 'Amplitude-WeightedApparentPolarity',\n",
       " 'SecondDerivativeEnvelope_40hz',\n",
       " 'Amplitude-WeightedInstantaneousPhase_40hz',\n",
       " 'AngleStack(8-13)_all',\n",
       " 'AngleStack(5-15)_all',\n",
       " 'petrel_sweet_attr',\n",
       " 'AngleStack(10-15)_all',\n",
       " 'Amplitude-WeightedInstantaneousFrequency',\n",
       " 'AngleStack(30-35)_all',\n",
       " 'AngleStack(15-20)_all',\n",
       " 'SignalAmplitude_40hz',\n",
       " 'Lambda_Rho',\n",
       " 'SecondDerivativeEnvelope_30hz',\n",
       " 'petrel_chaos_attr',\n",
       " 'AngleStack(5-10)_all',\n",
       " 'SignalEnvelope_40hz',\n",
       " 'AngleStack(13-18)_all',\n",
       " 'petrel_Dip_deviation_attr',\n",
       " 'SignalAmplitude_50hz',\n",
       " 'AngleStack(0-8)_all',\n",
       " 'SignalAmplitude_30hz',\n",
       " 'SecondDerivativeEnvelope_50hz',\n",
       " 'petrel_Amplitude_contrast_attr',\n",
       " 'Amplitude-WeightedInstantaneousPhase_50hz',\n",
       " 'S-WaveImpedanceReflectivity',\n",
       " 'SignalEnvelope_50hz',\n",
       " 'petrel_Dip_illumination_attr',\n",
       " 'SignalEnvelope_30hz',\n",
       " 'Amplitude-WeightedInstantaneousFrequency_40hz',\n",
       " 'petrel_Generalized_Spectral_Decomposition_attr',\n",
       " 'Amplitude-WeightedInstantaneousFrequency_50hz',\n",
       " 'AngleStack(33-38)_all',\n",
       " 'S-WaveVelocityReflectivity',\n",
       " 'Amplitude-WeightedInstantaneousFrequency_30hz',\n",
       " 'Mu_Rho',\n",
       " 'petrel_3D_curvature_attr',\n",
       " 'Integration',\n",
       " 'Amplitude-WeightedInstantaneousFrequency_20hz',\n",
       " 'petrel_instantaneous_phase_attr',\n",
       " 'SignalAmplitude_20hz',\n",
       " 'SecondDerivativeEnvelope_20hz',\n",
       " 'SignalEnvelope_20hz',\n",
       " 'AngleStack(35-40)_all',\n",
       " 'FluidFactor']"
      ]
     },
     "execution_count": 21,
     "metadata": {},
     "output_type": "execute_result"
    }
   ],
   "source": [
    "def read_corr():\n",
    "    \"\"\"\n",
    "    read correlation file.\n",
    "    \"\"\"\n",
    "#     os.chdir(FileConfig.corr_filepath)\n",
    "#     with open(, 'rb') as f:\n",
    "    temp = pd.read_pickle('/disk3/zk/aboutoil/Shengli/data/full_train_data/high_correlation_attrs.pkl')\n",
    "\n",
    "    temp = sorted(temp.items(), key=lambda x:x[1], reverse=True)\n",
    "    corr=[]\n",
    "    for i in range(76):\n",
    "        corr.append(temp[i][0].split(\".\")[0])\n",
    "\n",
    "    return corr\n",
    "corr=read_corr()\n",
    "corr"
   ]
  },
  {
   "cell_type": "code",
   "execution_count": 24,
   "metadata": {},
   "outputs": [],
   "source": [
    "import numpy as np\n",
    "import os\n",
    "means = np.empty((76), dtype=np.float32)\n",
    "stds = np.empty((76), dtype=np.float32)\n",
    "files = {}\n",
    "\n",
    "\n",
    "fileindex = {}\n",
    "for feature_index, feature in enumerate(mean_std.keys()):\n",
    "    fileindex[feature] = feature_index\n",
    "\n",
    "\n",
    "os.chdir('/disk3/Shengli/data/seismicdata')\n",
    "\n",
    "child_dir = []\n",
    "for dir_name in os.listdir('/disk3/Shengli/data/seismicdata'):\n",
    "    if os.path.splitext(dir_name)[1] == '':\n",
    "        child_dir.append(dir_name)\n",
    "index = 0\n",
    "for file_dir in child_dir:\n",
    "    dir_path = os.path.join('/disk3/Shengli/data/seismicdata', file_dir)\n",
    "    for file in os.listdir(dir_path):\n",
    "        filename = file.split('.')[0]\n",
    "        if filename in corr:\n",
    "            i = fileindex[file]\n",
    "            files[i] = os.path.join(dir_path, file)\n",
    "            means[i] = mean_std[file][2]\n",
    "            stds[i] = mean_std[file][3]\n",
    "\n",
    "            index += 1\n",
    "        if index >= 76:\n",
    "            break\n",
    "\n",
    "assert index == 76"
   ]
  },
  {
   "cell_type": "code",
   "execution_count": 32,
   "metadata": {},
   "outputs": [
    {
     "data": {
      "text/plain": [
       "[(0,\n",
       "  '/disk3/Shengli/data/seismicdata/phaseseis/Amplitude-WeightedApparentPolarity.sgy'),\n",
       " (1,\n",
       "  '/disk3/Shengli/data/seismicdata/frequencyseis/Amplitude-WeightedInstantaneousFrequency'),\n",
       " (2,\n",
       "  '/disk3/Shengli/data/seismicdata/frequencyseis/Amplitude-WeightedInstantaneousFrequency_20hz'),\n",
       " (3,\n",
       "  '/disk3/Shengli/data/seismicdata/frequencyseis/Amplitude-WeightedInstantaneousFrequency_30hz'),\n",
       " (4,\n",
       "  '/disk3/Shengli/data/seismicdata/frequencyseis/Amplitude-WeightedInstantaneousFrequency_40hz'),\n",
       " (5,\n",
       "  '/disk3/Shengli/data/seismicdata/frequencyseis/Amplitude-WeightedInstantaneousFrequency_50hz'),\n",
       " (6,\n",
       "  '/disk3/Shengli/data/seismicdata/phaseseis/Amplitude-WeightedInstantaneousPhase'),\n",
       " (7,\n",
       "  '/disk3/Shengli/data/seismicdata/phaseseis/Amplitude-WeightedInstantaneousPhase_40hz'),\n",
       " (8,\n",
       "  '/disk3/Shengli/data/seismicdata/phaseseis/Amplitude-WeightedInstantaneousPhase_50hz'),\n",
       " (9, '/disk3/Shengli/data/seismicdata/seismic/AngleStack(0-8)_all'),\n",
       " (10, '/disk3/Shengli/data/seismicdata/seismic/AngleStack(10-15)_all'),\n",
       " (11, '/disk3/Shengli/data/seismicdata/seismic/AngleStack(13-18)_all'),\n",
       " (12, '/disk3/Shengli/data/seismicdata/seismic/AngleStack(15-20)_all'),\n",
       " (13, '/disk3/Shengli/data/seismicdata/seismic/AngleStack(20-25)_all'),\n",
       " (14, '/disk3/Shengli/data/seismicdata/seismic/AngleStack(25-30)_all'),\n",
       " (15, '/disk3/Shengli/data/seismicdata/seismic/AngleStack(25-35)_all'),\n",
       " (16, '/disk3/Shengli/data/seismicdata/seismic/AngleStack(28-33)_all'),\n",
       " (17, '/disk3/Shengli/data/seismicdata/seismic/AngleStack(30-35)_all'),\n",
       " (18, '/disk3/Shengli/data/seismicdata/seismic/AngleStack(33-38)_all'),\n",
       " (19, '/disk3/Shengli/data/seismicdata/seismic/AngleStack(35-40)_all'),\n",
       " (20, '/disk3/Shengli/data/seismicdata/seismic/AngleStack(5-10)_all'),\n",
       " (21, '/disk3/Shengli/data/seismicdata/seismic/AngleStack(5-15)_all'),\n",
       " (22, '/disk3/Shengli/data/seismicdata/seismic/AngleStack(8-13)_all'),\n",
       " (23, '/disk3/Shengli/data/seismicdata/seismic/AngleStack15-25'),\n",
       " (24, '/disk3/Shengli/data/seismicdata/seismic/AngleStack18-23'),\n",
       " (25, '/disk3/Shengli/data/seismicdata/seismic/AngleStack23-28'),\n",
       " (26, '/disk3/Shengli/data/seismicdata/seismic/CDD_bigdata_from_petrel.sgy'),\n",
       " (27, '/disk3/Shengli/data/seismicdata/structureseismic/Differentitation'),\n",
       " (28, '/disk3/Shengli/data/seismicdata/fluidseis/FluidFactor'),\n",
       " (29, '/disk3/Shengli/data/seismicdata/ampseimic/Integration'),\n",
       " (30, '/disk3/Shengli/data/seismicdata/fluidseis/Lambda_Rho'),\n",
       " (31, '/disk3/Shengli/data/seismicdata/fluidseis/Mu_Rho'),\n",
       " (32, '/disk3/Shengli/data/seismicdata/fluidseis/P-WaveImpedanceReflectivity'),\n",
       " (33, '/disk3/Shengli/data/seismicdata/fluidseis/P-WaveVelocityReflectivity'),\n",
       " (34, '/disk3/Shengli/data/seismicdata/fluidseis/S-WaveImpedanceReflectivity'),\n",
       " (35, '/disk3/Shengli/data/seismicdata/fluidseis/S-WaveVelocityReflectivity'),\n",
       " (36,\n",
       "  '/disk3/Shengli/data/seismicdata/ampseimic/SecondDerivativeEnvelope_20hz'),\n",
       " (37,\n",
       "  '/disk3/Shengli/data/seismicdata/ampseimic/SecondDerivativeEnvelope_30hz'),\n",
       " (38,\n",
       "  '/disk3/Shengli/data/seismicdata/ampseimic/SecondDerivativeEnvelope_40hz'),\n",
       " (39,\n",
       "  '/disk3/Shengli/data/seismicdata/ampseimic/SecondDerivativeEnvelope_50hz'),\n",
       " (40, '/disk3/Shengli/data/seismicdata/ampseimic/SignalAmplitude_20hz'),\n",
       " (41, '/disk3/Shengli/data/seismicdata/ampseimic/SignalAmplitude_30hz'),\n",
       " (42, '/disk3/Shengli/data/seismicdata/ampseimic/SignalAmplitude_40hz'),\n",
       " (43, '/disk3/Shengli/data/seismicdata/ampseimic/SignalAmplitude_50hz'),\n",
       " (44, '/disk3/Shengli/data/seismicdata/ampseimic/SignalEnvelope_20hz'),\n",
       " (45, '/disk3/Shengli/data/seismicdata/ampseimic/SignalEnvelope_30hz'),\n",
       " (46, '/disk3/Shengli/data/seismicdata/ampseimic/SignalEnvelope_40hz'),\n",
       " (47, '/disk3/Shengli/data/seismicdata/ampseimic/SignalEnvelope_50hz'),\n",
       " (48, '/disk3/Shengli/data/seismicdata/ampseimic/SingalEnvelope'),\n",
       " (49,\n",
       "  '/disk3/Shengli/data/seismicdata/structureseismic/petrel_ Structural_smoothing_attr.sgy'),\n",
       " (50,\n",
       "  '/disk3/Shengli/data/seismicdata/structureseismic/petrel_3D_curvature_attr.sgy'),\n",
       " (51,\n",
       "  '/disk3/Shengli/data/seismicdata/ampseimic/petrel_Amplitude_contrast_attr.sgy'),\n",
       " (52,\n",
       "  '/disk3/Shengli/data/seismicdata/structureseismic/petrel_Dip_deviation_attr.sgy'),\n",
       " (53,\n",
       "  '/disk3/Shengli/data/seismicdata/structureseismic/petrel_Dip_illumination_attr.sgy'),\n",
       " (54,\n",
       "  '/disk3/Shengli/data/seismicdata/otherseis/petrel_First_derivative_attr.sgy'),\n",
       " (55,\n",
       "  '/disk3/Shengli/data/seismicdata/frequencyseis/petrel_Frequency_filter_attr.sgy'),\n",
       " (56,\n",
       "  '/disk3/Shengli/data/seismicdata/ampseimic/petrel_Generalized_Spectral_Decomposition_attr.sgy'),\n",
       " (57,\n",
       "  '/disk3/Shengli/data/seismicdata/ampseimic/petrel_Gradient_magnitude_attr.sgy'),\n",
       " (58,\n",
       "  '/disk3/Shengli/data/seismicdata/otherseis/petrel_Graphic_equalizer_attr.sgy'),\n",
       " (59,\n",
       "  '/disk3/Shengli/data/seismicdata/otherseis/petrel_Median_filter_attr.sgy'),\n",
       " (60,\n",
       "  '/disk3/Shengli/data/seismicdata/ampseimic/petrel_Original_Amplitude_attr.sgy'),\n",
       " (61,\n",
       "  '/disk3/Shengli/data/seismicdata/ampseimic/petrel_Quadrature_amplitude_attr.sgy'),\n",
       " (62,\n",
       "  '/disk3/Shengli/data/seismicdata/otherseis/petrel_Relative_acoustic_impedance_attr.sgy'),\n",
       " (63, '/disk3/Shengli/data/seismicdata/otherseis/petrel_Remove_bias_attr.sgy'),\n",
       " (64,\n",
       "  '/disk3/Shengli/data/seismicdata/otherseis/petrel_Second_derivative_attr.sgy'),\n",
       " (65, '/disk3/Shengli/data/seismicdata/otherseis/petrel_Time_gain_attr.sgy'),\n",
       " (66, '/disk3/Shengli/data/seismicdata/otherseis/petrel_Trace_AGC_attr.sgy'),\n",
       " (67,\n",
       "  '/disk3/Shengli/data/seismicdata/otherseis/petrel_Trace_AGC_iterative_attr.sgy'),\n",
       " (68,\n",
       "  '/disk3/Shengli/data/seismicdata/otherseis/petrel_Trace_gradient_attr.sgy'),\n",
       " (69,\n",
       "  '/disk3/Shengli/data/seismicdata/structureseismic/petrel_chaos_attr.sgy'),\n",
       " (70, '/disk3/Shengli/data/seismicdata/ampseimic/petrel_envelope_attr.sgy'),\n",
       " (71,\n",
       "  '/disk3/Shengli/data/seismicdata/phaseseis/petrel_instantaneous_phase_attr.sgy'),\n",
       " (72,\n",
       "  '/disk3/Shengli/data/seismicdata/otherseis/petrel_reflection_intensity_attr.sgy'),\n",
       " (73,\n",
       "  '/disk3/Shengli/data/seismicdata/ampseimic/petrel_rms_Iterative_amplitude_attr.sgy'),\n",
       " (74,\n",
       "  '/disk3/Shengli/data/seismicdata/ampseimic/petrel_rms_amplitude_attr.sgy'),\n",
       " (75, '/disk3/Shengli/data/seismicdata/otherseis/petrel_sweet_attr.sgy')]"
      ]
     },
     "execution_count": 32,
     "metadata": {},
     "output_type": "execute_result"
    }
   ],
   "source": [
    "[(k,files[k]) for k in sorted(files.keys())] "
   ]
  },
  {
   "cell_type": "code",
   "execution_count": 7,
   "metadata": {
    "scrolled": true
   },
   "outputs": [
    {
     "data": {
      "text/plain": [
       "76"
      ]
     },
     "execution_count": 7,
     "metadata": {},
     "output_type": "execute_result"
    }
   ],
   "source": [
    "[data for _ in range(76)]"
   ]
  },
  {
   "cell_type": "code",
   "execution_count": 4,
   "metadata": {},
   "outputs": [],
   "source": [
    "import csv\n",
    "feature_nb = 76\n",
    "line_nb = 1614\n",
    "time_nb = 1251\n",
    "trace_nb = 662\n",
    "\n",
    "line_start = 629\n",
    "trace_start = 1190\n",
    "def read_plane_loc(file):\n",
    "    \"\"\"\n",
    "    read plane location.\n",
    "    \"\"\"\n",
    "    data = []\n",
    "    times = {}\n",
    "\n",
    "    with open(file, \"r\") as file:\n",
    "        reader = csv.reader(file)\n",
    "        for row in reader:\n",
    "            datas = row[0].split()\n",
    "            data.append([int(float(datas[4]) - line_start), int(float(datas[3]) - trace_start)])\n",
    "            times[( int(float(datas[4]) - line_start), int(float(datas[3]) - trace_start) )] = int(float(datas[2])/2)\n",
    "    return data, times\n",
    "data,times=read_plane_loc(\"/disk3/zk/aboutoil/Shengli/data/plane_loc/ng32sz_grid_28jun_154436.p701\")"
   ]
  },
  {
   "cell_type": "code",
   "execution_count": 22,
   "metadata": {},
   "outputs": [
    {
     "data": {
      "text/plain": [
       "278"
      ]
     },
     "execution_count": 22,
     "metadata": {},
     "output_type": "execute_result"
    }
   ],
   "source": [
    "len(set(times.values()))"
   ]
  },
  {
   "cell_type": "code",
   "execution_count": 44,
   "metadata": {},
   "outputs": [
    {
     "data": {
      "text/plain": [
       "0                 640700.00      4232725.00        1113.0...\n",
       "1                 640700.00      4232750.00        1113.1...\n",
       "2                 640700.00      4232775.00        1113.1...\n",
       "3                 640700.00      4232800.00        1113.2...\n",
       "4                 640700.00      4232825.00        1113.3...\n",
       "                                 ...                        \n",
       "1068463           681025.00      4249150.00        1424.3...\n",
       "1068464           681025.00      4249175.00        1424.3...\n",
       "1068465           681025.00      4249200.00        1424.3...\n",
       "1068466           681025.00      4249225.00        1424.2...\n",
       "1068467           681025.00      4249250.00        1424.1...\n",
       "Name: 0, Length: 1068468, dtype: object"
      ]
     },
     "execution_count": 44,
     "metadata": {},
     "output_type": "execute_result"
    }
   ],
   "source": [
    "pd.read_csv(\"/disk3/zk/aboutoil/Shengli/data/plane_loc/ng32sz_grid_28jun_154436.p701\",header=None)[0]"
   ]
  },
  {
   "cell_type": "code",
   "execution_count": 15,
   "metadata": {},
   "outputs": [
    {
     "data": {
      "text/plain": [
       "<c_float_Array_76_Array_664_Array_1614 at 0x7f1bad5f3730>"
      ]
     },
     "execution_count": 15,
     "metadata": {},
     "output_type": "execute_result"
    }
   ],
   "source": [
    "import numpy as np\n",
    "tmp = np.ctypeslib.as_ctypes(np.zeros((line_nb, trace_nb, feature_nb), dtype=np.float32))\n",
    "tmp"
   ]
  },
  {
   "cell_type": "code",
   "execution_count": null,
   "metadata": {},
   "outputs": [],
   "source": []
  }
 ],
 "metadata": {
  "kernelspec": {
   "display_name": "Python [conda env:py77] *",
   "language": "python",
   "name": "conda-env-py77-py"
  },
  "language_info": {
   "codemirror_mode": {
    "name": "ipython",
    "version": 3
   },
   "file_extension": ".py",
   "mimetype": "text/x-python",
   "name": "python",
   "nbconvert_exporter": "python",
   "pygments_lexer": "ipython3",
   "version": "3.6.8"
  }
 },
 "nbformat": 4,
 "nbformat_minor": 4
}
