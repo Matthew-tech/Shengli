{
 "cells": [
  {
   "cell_type": "code",
   "execution_count": null,
   "metadata": {},
   "outputs": [
    {
     "name": "stderr",
     "output_type": "stream",
     "text": [
      "Using TensorFlow backend.\n"
     ]
    },
    {
     "name": "stdout",
     "output_type": "stream",
     "text": [
      "loading...data/plane_loc/t1int.txt.pkl\n",
      "263608\n",
      "loading...data/plane_loc/tr.txt.pkl\n",
      "259120\n",
      "cur_line:  629\n",
      "cur_line:  639\n",
      "cur_line:  649\n",
      "cur_line:  659\n",
      "cur_line:  669\n",
      "cur_line:  679\n",
      "cur_line:  689\n",
      "cur_line:  699\n",
      "cur_line:  709\n",
      "cur_line:  719\n",
      "cur_line:  729\n",
      "cur_line:  739\n",
      "cur_line:  749\n",
      "cur_line:  759\n",
      "cur_line:  769\n",
      "cur_line:  779\n",
      "cur_line:  789\n",
      "cur_line:  799\n",
      "cur_line:  809\n",
      "cur_line:  819\n",
      "cur_line:  829\n",
      "cur_line:  839\n",
      "cur_line:  849\n",
      "cur_line:  859\n",
      "cur_line:  869\n",
      "cur_line:  879\n",
      "cur_line:  889\n",
      "cur_line:  899\n",
      "cur_line:  909\n",
      "cur_line:  919\n",
      "cur_line:  929\n",
      "cur_line:  939\n",
      "cur_line:  949\n",
      "cur_line:  959\n",
      "cur_line:  969\n",
      "cur_line:  979\n",
      "cur_line:  989\n",
      "cur_line:  999\n",
      "cur_line:  1009\n",
      "cur_line:  1019\n",
      "cur_line:  1029\n",
      "cur_line:  1039\n",
      "cur_line:  1049\n",
      "cur_line:  1059\n",
      "cur_line:  1069\n",
      "cur_line:  1079\n",
      "cur_line:  1089\n",
      "cur_line:  1099\n",
      "cur_line:  1109\n",
      "cur_line:  1119\n",
      "cur_line:  1129\n",
      "cur_line:  1139\n",
      "cur_line:  1149\n",
      "cur_line:  1159\n",
      "cur_line:  1169\n",
      "cur_line:  1179\n",
      "cur_line:  1189\n",
      "cur_line:  1199\n",
      "cur_line:  1209\n",
      "cur_line:  1219\n",
      "cur_line:  1229\n",
      "cur_line:  1239\n",
      "cur_line:  1249\n",
      "cur_line:  1259\n",
      "cur_line:  1269\n",
      "cur_line:  1279\n",
      "cur_line:  1289\n",
      "cur_line:  1299\n",
      "cur_line:  1309\n",
      "cur_line:  1319\n",
      "cur_line:  1329\n",
      "cur_line:  1339\n",
      "cur_line:  1349\n",
      "cur_line:  1359\n",
      "cur_line:  1369\n",
      "cur_line:  1379\n",
      "cur_line:  1389\n",
      "cur_line:  1399\n",
      "cur_line:  1409\n",
      "cur_line:  1419\n",
      "cur_line:  1429\n",
      "cur_line:  1439\n",
      "cur_line:  1449\n",
      "cur_line:  1459\n",
      "cur_line:  1469\n",
      "cur_line:  1479\n",
      "finish 0.15060240963855423\n"
     ]
    }
   ],
   "source": [
    "run cnn_pred_target.py"
   ]
  }
 ],
 "metadata": {
  "kernelspec": {
   "display_name": "Python [conda env:zk]",
   "language": "python",
   "name": "conda-env-zk-py"
  },
  "language_info": {
   "codemirror_mode": {
    "name": "ipython",
    "version": 3
   },
   "file_extension": ".py",
   "mimetype": "text/x-python",
   "name": "python",
   "nbconvert_exporter": "python",
   "pygments_lexer": "ipython3",
   "version": "3.6.2"
  }
 },
 "nbformat": 4,
 "nbformat_minor": 2
}
