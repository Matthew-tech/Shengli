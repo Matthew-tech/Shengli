{
 "cells": [
  {
   "cell_type": "markdown",
   "metadata": {},
   "source": [
    "# 读取xgboost的训练数据 76维npy文件 "
   ]
  },
  {
   "cell_type": "code",
   "execution_count": 1,
   "metadata": {},
   "outputs": [],
   "source": [
    "import pandas as pd\n",
    "import numpy as np\n",
    "import xgboost as xgb"
   ]
  },
  {
   "cell_type": "code",
   "execution_count": 2,
   "metadata": {},
   "outputs": [],
   "source": [
    "train=pd.read_pickle(\"/disk3/zk/aboutoil/Shengli/data/4-training_data/shallow_methods/xgboost_train_data_76d_target.pkl\")\n",
    "test=pd.read_pickle(\"/disk3/zk/aboutoil/Shengli/data/4-training_data/shallow_methods/xgboost_test_data_76d_target.pkl\")\n",
    "val=pd.read_pickle(\"/disk3/zk/aboutoil/Shengli/data/4-training_data/shallow_methods/xgboost_val_data_76d_target.pkl\")  "
   ]
  },
  {
   "cell_type": "markdown",
   "metadata": {},
   "source": [
    "# 构造深度模型的训练集pkl "
   ]
  },
  {
   "cell_type": "code",
   "execution_count": 3,
   "metadata": {},
   "outputs": [
    {
     "data": {
      "text/plain": [
       "(tuple,\n",
       " ' ',\n",
       " 2,\n",
       " ' ',\n",
       " array([[-1.24539365, -0.59022532,  0.86681934, ...,  0.62164646,\n",
       "          0.74127285,  0.78990344],\n",
       "        [-1.05446358, -0.74727458,  0.85521391, ...,  0.60072324,\n",
       "          0.74352656,  0.83898758],\n",
       "        [-0.90232642, -0.79087678,  0.84231908, ...,  0.57630342,\n",
       "          0.74263143,  0.84922813],\n",
       "        ...,\n",
       "        [ 1.05433643,  1.19177794,  0.73822187, ...,  0.58098896,\n",
       "          0.70087163,  0.03563995],\n",
       "        [ 1.25769082,  1.29514421,  0.76665921, ...,  0.60700418,\n",
       "          0.8203171 ,  0.29022888],\n",
       "        [ 1.4557714 ,  1.2278539 ,  0.79227221, ...,  0.63218919,\n",
       "          0.88176704,  0.60169011]]),\n",
       " ' ',\n",
       " array([0., 0., 0., ..., 1., 0., 0.]))"
      ]
     },
     "execution_count": 3,
     "metadata": {},
     "output_type": "execute_result"
    }
   ],
   "source": [
    "type(train),\" \",len(train),\" \",train[0],\" \",train[1]"
   ]
  },
  {
   "cell_type": "code",
   "execution_count": 4,
   "metadata": {},
   "outputs": [
    {
     "data": {
      "text/plain": [
       "((9114, 76), ' ', (9114,))"
      ]
     },
     "execution_count": 4,
     "metadata": {},
     "output_type": "execute_result"
    }
   ],
   "source": [
    "train[0].shape,\" \",train[1].shape"
   ]
  },
  {
   "cell_type": "code",
   "execution_count": 5,
   "metadata": {},
   "outputs": [],
   "source": [
    "df_train=pd.DataFrame(train[0])"
   ]
  },
  {
   "cell_type": "code",
   "execution_count": 6,
   "metadata": {},
   "outputs": [],
   "source": [
    "df_train['label']=train[1]\n",
    "df_train['label']=df_train['label'].astype('int')"
   ]
  },
  {
   "cell_type": "code",
   "execution_count": 7,
   "metadata": {},
   "outputs": [],
   "source": [
    "df_train.to_pickle('./df_train_76d_target.pkl')"
   ]
  },
  {
   "cell_type": "code",
   "execution_count": 8,
   "metadata": {},
   "outputs": [],
   "source": [
    "df_train_test=pd.read_pickle(\"./df_train_76d_target.pkl\")"
   ]
  },
  {
   "cell_type": "code",
   "execution_count": 9,
   "metadata": {},
   "outputs": [
    {
     "data": {
      "text/plain": [
       "0        float64\n",
       "1        float64\n",
       "2        float64\n",
       "3        float64\n",
       "4        float64\n",
       "          ...   \n",
       "72       float64\n",
       "73       float64\n",
       "74       float64\n",
       "75       float64\n",
       "label      int64\n",
       "Length: 77, dtype: object"
      ]
     },
     "execution_count": 9,
     "metadata": {},
     "output_type": "execute_result"
    }
   ],
   "source": [
    "df_train.dtypes"
   ]
  },
  {
   "cell_type": "code",
   "execution_count": 10,
   "metadata": {},
   "outputs": [
    {
     "data": {
      "text/plain": [
       "0    6811\n",
       "1    2303\n",
       "Name: label, dtype: int64"
      ]
     },
     "execution_count": 10,
     "metadata": {},
     "output_type": "execute_result"
    }
   ],
   "source": [
    "df_train.label.value_counts()"
   ]
  },
  {
   "cell_type": "code",
   "execution_count": null,
   "metadata": {},
   "outputs": [],
   "source": []
  },
  {
   "cell_type": "code",
   "execution_count": null,
   "metadata": {},
   "outputs": [],
   "source": []
  },
  {
   "cell_type": "markdown",
   "metadata": {},
   "source": [
    "# 构造深度模型的验证集pkl "
   ]
  },
  {
   "cell_type": "code",
   "execution_count": 11,
   "metadata": {},
   "outputs": [
    {
     "data": {
      "text/plain": [
       "(tuple,\n",
       " ' ',\n",
       " 2,\n",
       " ' ',\n",
       " array([[-0.8830427 ,  0.17124113,  0.65168904, ...,  0.51867834,\n",
       "          0.57859654,  0.13218936],\n",
       "        [-0.98157093,  1.17631537,  0.68025166, ...,  0.53647025,\n",
       "          0.68068597,  0.16542237],\n",
       "        [-1.09213994,  1.36245543,  0.70443693, ...,  0.55278646,\n",
       "          0.77804214,  0.25763904],\n",
       "        ...,\n",
       "        [-0.13941255, -1.32810965, -0.07627166, ..., -1.08629703,\n",
       "         -0.96279556, -0.08835531],\n",
       "        [ 0.44785225, -1.34481497,  0.02224548, ..., -1.03685289,\n",
       "         -0.77745205, -0.13579735],\n",
       "        [ 0.57935427, -1.26459721,  0.11473977, ..., -0.96786489,\n",
       "         -0.72672207, -0.24399399]]),\n",
       " ' ',\n",
       " array([0., 0., 0., ..., 1., 1., 0.]))"
      ]
     },
     "execution_count": 11,
     "metadata": {},
     "output_type": "execute_result"
    }
   ],
   "source": [
    "type(val),\" \",len(val),\" \", val[0],\" \",val[1]"
   ]
  },
  {
   "cell_type": "code",
   "execution_count": 12,
   "metadata": {},
   "outputs": [
    {
     "data": {
      "text/plain": [
       "((3030, 76), ' ', (3030,))"
      ]
     },
     "execution_count": 12,
     "metadata": {},
     "output_type": "execute_result"
    }
   ],
   "source": [
    "val[0].shape,\" \",val[1].shape"
   ]
  },
  {
   "cell_type": "code",
   "execution_count": 13,
   "metadata": {},
   "outputs": [],
   "source": [
    "df_val=pd.DataFrame(val[0])"
   ]
  },
  {
   "cell_type": "code",
   "execution_count": 14,
   "metadata": {},
   "outputs": [],
   "source": [
    "df_val['label']=val[1]\n",
    "df_val['label']=df_val['label'].astype('int')"
   ]
  },
  {
   "cell_type": "code",
   "execution_count": 15,
   "metadata": {},
   "outputs": [],
   "source": [
    "df_val.to_pickle('./df_val_76d_target.pkl')"
   ]
  },
  {
   "cell_type": "code",
   "execution_count": 16,
   "metadata": {},
   "outputs": [],
   "source": [
    "df_val_test=pd.read_pickle(\"./df_val_76d_target.pkl\")"
   ]
  },
  {
   "cell_type": "code",
   "execution_count": 17,
   "metadata": {},
   "outputs": [
    {
     "data": {
      "text/plain": [
       "0        float64\n",
       "1        float64\n",
       "2        float64\n",
       "3        float64\n",
       "4        float64\n",
       "          ...   \n",
       "72       float64\n",
       "73       float64\n",
       "74       float64\n",
       "75       float64\n",
       "label      int64\n",
       "Length: 77, dtype: object"
      ]
     },
     "execution_count": 17,
     "metadata": {},
     "output_type": "execute_result"
    }
   ],
   "source": [
    "df_val_test.dtypes"
   ]
  },
  {
   "cell_type": "code",
   "execution_count": 18,
   "metadata": {},
   "outputs": [
    {
     "data": {
      "text/plain": [
       "0    2282\n",
       "1     748\n",
       "Name: label, dtype: int64"
      ]
     },
     "execution_count": 18,
     "metadata": {},
     "output_type": "execute_result"
    }
   ],
   "source": [
    "df_val_test.label.value_counts()"
   ]
  },
  {
   "cell_type": "code",
   "execution_count": null,
   "metadata": {},
   "outputs": [],
   "source": []
  },
  {
   "cell_type": "code",
   "execution_count": null,
   "metadata": {},
   "outputs": [],
   "source": []
  },
  {
   "cell_type": "code",
   "execution_count": null,
   "metadata": {},
   "outputs": [],
   "source": []
  },
  {
   "cell_type": "markdown",
   "metadata": {},
   "source": [
    "# 构造深度模型的训练集pkl "
   ]
  },
  {
   "cell_type": "code",
   "execution_count": 19,
   "metadata": {},
   "outputs": [
    {
     "data": {
      "text/plain": [
       "(tuple,\n",
       " ' ',\n",
       " 3,\n",
       " ' ',\n",
       " array([[-0.62120851, -0.78805804, -0.64854262, ..., -0.51900619,\n",
       "         -0.76371608, -0.33012814],\n",
       "        [ 0.58754256, -0.85299149, -0.56891372, ..., -0.57422589,\n",
       "         -0.90139188, -0.3202125 ],\n",
       "        [ 0.59100524, -0.79170678, -0.47249234, ..., -0.6138982 ,\n",
       "         -0.87395   , -0.32648063],\n",
       "        ...,\n",
       "        [-0.70187502, -0.72263445,  0.7445822 , ...,  0.41101395,\n",
       "          0.59332295,  0.3882188 ],\n",
       "        [-0.69337454, -0.63569588,  0.76677032, ...,  0.41261731,\n",
       "          0.59302831,  0.3484212 ],\n",
       "        [-0.68439337,  0.26699543,  0.78763876, ...,  0.41320261,\n",
       "          0.58140715,  0.22820311]]),\n",
       " ' ',\n",
       " array([0., 0., 0., ..., 1., 0., 0.]))"
      ]
     },
     "execution_count": 19,
     "metadata": {},
     "output_type": "execute_result"
    }
   ],
   "source": [
    "type(test),\" \",len(test),\" \",test[0],\" \",test[1]"
   ]
  },
  {
   "cell_type": "code",
   "execution_count": 20,
   "metadata": {},
   "outputs": [
    {
     "data": {
      "text/plain": [
       "((2998, 76), ' ', (2998,))"
      ]
     },
     "execution_count": 20,
     "metadata": {},
     "output_type": "execute_result"
    }
   ],
   "source": [
    "test[0].shape,\" \",test[1].shape"
   ]
  },
  {
   "cell_type": "code",
   "execution_count": 21,
   "metadata": {},
   "outputs": [],
   "source": [
    "df_test=pd.DataFrame(test[0])"
   ]
  },
  {
   "cell_type": "code",
   "execution_count": 22,
   "metadata": {},
   "outputs": [],
   "source": [
    "df_test['label']=test[1]\n",
    "df_test['label']=df_test['label'].astype('int')"
   ]
  },
  {
   "cell_type": "code",
   "execution_count": 23,
   "metadata": {},
   "outputs": [],
   "source": [
    "df_test.to_pickle('./df_test_76d_target.pkl')"
   ]
  },
  {
   "cell_type": "code",
   "execution_count": 24,
   "metadata": {},
   "outputs": [],
   "source": [
    "df_test_test=pd.read_pickle(\"./df_test_76d_target.pkl\")"
   ]
  },
  {
   "cell_type": "code",
   "execution_count": 25,
   "metadata": {},
   "outputs": [
    {
     "data": {
      "text/plain": [
       "0        float64\n",
       "1        float64\n",
       "2        float64\n",
       "3        float64\n",
       "4        float64\n",
       "          ...   \n",
       "72       float64\n",
       "73       float64\n",
       "74       float64\n",
       "75       float64\n",
       "label      int64\n",
       "Length: 77, dtype: object"
      ]
     },
     "execution_count": 25,
     "metadata": {},
     "output_type": "execute_result"
    }
   ],
   "source": [
    "df_test_test.dtypes"
   ]
  },
  {
   "cell_type": "code",
   "execution_count": 26,
   "metadata": {},
   "outputs": [
    {
     "data": {
      "text/plain": [
       "0    2270\n",
       "1     728\n",
       "Name: label, dtype: int64"
      ]
     },
     "execution_count": 26,
     "metadata": {},
     "output_type": "execute_result"
    }
   ],
   "source": [
    "df_test_test.label.value_counts()"
   ]
  },
  {
   "cell_type": "code",
   "execution_count": null,
   "metadata": {},
   "outputs": [],
   "source": []
  },
  {
   "cell_type": "code",
   "execution_count": null,
   "metadata": {},
   "outputs": [],
   "source": []
  },
  {
   "cell_type": "markdown",
   "metadata": {},
   "source": [
    "# 加载预测文件（plane_data.npy） ((1089624, 76)==(1641*664*76))"
   ]
  },
  {
   "cell_type": "code",
   "execution_count": 29,
   "metadata": {},
   "outputs": [],
   "source": [
    "plane32_preddata=np.load(\"/disk3/zk/aboutoil/Shengli/data/plane_loc/plane_data.npy\")"
   ]
  },
  {
   "cell_type": "code",
   "execution_count": 30,
   "metadata": {},
   "outputs": [
    {
     "data": {
      "text/plain": [
       "(1089624, 76)"
      ]
     },
     "execution_count": 30,
     "metadata": {},
     "output_type": "execute_result"
    }
   ],
   "source": [
    "plane32_preddata.shape   #(1089624, 76)  ng32层大小为1641*664=1089624"
   ]
  },
  {
   "cell_type": "code",
   "execution_count": null,
   "metadata": {},
   "outputs": [],
   "source": []
  }
 ],
 "metadata": {
  "kernelspec": {
   "display_name": "Python [conda env:py77] *",
   "language": "python",
   "name": "conda-env-py77-py"
  },
  "language_info": {
   "codemirror_mode": {
    "name": "ipython",
    "version": 3
   },
   "file_extension": ".py",
   "mimetype": "text/x-python",
   "name": "python",
   "nbconvert_exporter": "python",
   "pygments_lexer": "ipython3",
   "version": "3.6.8"
  },
  "toc-autonumbering": true
 },
 "nbformat": 4,
 "nbformat_minor": 4
}
