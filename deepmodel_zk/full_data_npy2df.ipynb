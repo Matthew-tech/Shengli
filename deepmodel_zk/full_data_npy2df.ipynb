{
 "cells": [
  {
   "cell_type": "markdown",
   "metadata": {},
   "source": [
    "# 读取xgboost的训练数据 76维npy文件 "
   ]
  },
  {
   "cell_type": "code",
   "execution_count": 47,
   "metadata": {},
   "outputs": [],
   "source": [
    "import pandas as pd\n",
    "import numpy as np\n",
    "import xgboost as xgb"
   ]
  },
  {
   "cell_type": "code",
   "execution_count": 48,
   "metadata": {},
   "outputs": [],
   "source": [
    "train=pd.read_pickle(\"/disk3/zk/aboutoil/Shengli/data/4-training_data/shallow_methods/xgboost_train_data_76d_full.pkl\")\n",
    "test=pd.read_pickle(\"/disk3/zk/aboutoil/Shengli/data/4-training_data/shallow_methods/xgboost_test_data_76d_full.pkl\")\n",
    "val=pd.read_pickle(\"/disk3/zk/aboutoil/Shengli/data/4-training_data/shallow_methods/xgboost_val_data_76d_full.pkl\")  "
   ]
  },
  {
   "cell_type": "markdown",
   "metadata": {},
   "source": [
    "# 构造深度模型的训练集pkl "
   ]
  },
  {
   "cell_type": "code",
   "execution_count": 49,
   "metadata": {},
   "outputs": [
    {
     "data": {
      "text/plain": [
       "(tuple,\n",
       " ' ',\n",
       " 2,\n",
       " ' ',\n",
       " array([[ 1.11783143, -0.21322035, -0.9022795 , ...,  0.65215143,\n",
       "          0.69893747,  0.14812079],\n",
       "        [ 1.25830374,  1.11090515, -0.86646311, ...,  0.64271013,\n",
       "          0.80539448,  0.25612106],\n",
       "        [ 1.40994237,  1.38857296, -0.5076096 , ...,  0.63775027,\n",
       "          0.87679584,  0.41226204],\n",
       "        ...,\n",
       "        [ 2.84861994,  2.37890235,  2.27180222, ...,  1.63916119,\n",
       "          1.47462839,  2.81047636],\n",
       "        [ 2.89480051,  2.57008148,  2.32248963, ...,  1.68164932,\n",
       "          1.55622598,  2.58006158],\n",
       "        [ 2.93243394,  2.64821319,  2.36132522, ...,  1.7241627 ,\n",
       "          1.68116902,  3.01140082]]),\n",
       " ' ',\n",
       " array([0., 0., 0., ..., 0., 0., 0.]))"
      ]
     },
     "execution_count": 49,
     "metadata": {},
     "output_type": "execute_result"
    }
   ],
   "source": [
    "type(train),\" \",len(train),\" \",train[0],\" \",train[1]"
   ]
  },
  {
   "cell_type": "code",
   "execution_count": 50,
   "metadata": {},
   "outputs": [
    {
     "data": {
      "text/plain": [
       "((30678, 76), ' ', (30678,))"
      ]
     },
     "execution_count": 50,
     "metadata": {},
     "output_type": "execute_result"
    }
   ],
   "source": [
    "train[0].shape,\" \",train[1].shape"
   ]
  },
  {
   "cell_type": "code",
   "execution_count": 51,
   "metadata": {},
   "outputs": [],
   "source": [
    "df_train=pd.DataFrame(train[0])"
   ]
  },
  {
   "cell_type": "code",
   "execution_count": 52,
   "metadata": {},
   "outputs": [],
   "source": [
    "df_train['label']=train[1]\n",
    "df_train['label']=df_train['label'].astype('int')"
   ]
  },
  {
   "cell_type": "code",
   "execution_count": 53,
   "metadata": {},
   "outputs": [],
   "source": [
    "df_train.to_pickle('./df_train_76d_full.pkl')"
   ]
  },
  {
   "cell_type": "code",
   "execution_count": 54,
   "metadata": {},
   "outputs": [],
   "source": [
    "df_train_test=pd.read_pickle(\"./df_train_76d_full.pkl\")"
   ]
  },
  {
   "cell_type": "code",
   "execution_count": 55,
   "metadata": {},
   "outputs": [
    {
     "data": {
      "text/plain": [
       "0        float64\n",
       "1        float64\n",
       "2        float64\n",
       "3        float64\n",
       "4        float64\n",
       "          ...   \n",
       "72       float64\n",
       "73       float64\n",
       "74       float64\n",
       "75       float64\n",
       "label      int64\n",
       "Length: 77, dtype: object"
      ]
     },
     "execution_count": 55,
     "metadata": {},
     "output_type": "execute_result"
    }
   ],
   "source": [
    "df_train.dtypes"
   ]
  },
  {
   "cell_type": "code",
   "execution_count": 56,
   "metadata": {},
   "outputs": [
    {
     "data": {
      "text/plain": [
       "0    17578\n",
       "1    13100\n",
       "Name: label, dtype: int64"
      ]
     },
     "execution_count": 56,
     "metadata": {},
     "output_type": "execute_result"
    }
   ],
   "source": [
    "df_train.label.value_counts()"
   ]
  },
  {
   "cell_type": "code",
   "execution_count": null,
   "metadata": {},
   "outputs": [],
   "source": []
  },
  {
   "cell_type": "code",
   "execution_count": null,
   "metadata": {},
   "outputs": [],
   "source": []
  },
  {
   "cell_type": "markdown",
   "metadata": {},
   "source": [
    "# 构造深度模型的验证集pkl "
   ]
  },
  {
   "cell_type": "code",
   "execution_count": 57,
   "metadata": {},
   "outputs": [
    {
     "data": {
      "text/plain": [
       "(tuple,\n",
       " ' ',\n",
       " 2,\n",
       " ' ',\n",
       " array([[-0.64893313,  0.14390681,  0.56171661, ...,  0.39306498,\n",
       "          0.45869198, -0.06636841],\n",
       "        [-0.67545994, -0.55539038,  0.57956571, ...,  0.38520005,\n",
       "          0.47254007,  0.03313459],\n",
       "        [-0.68403436,  0.12988853,  0.59783757, ...,  0.37944906,\n",
       "          0.48136433,  0.01708774],\n",
       "        ...,\n",
       "        [ 2.28434469, -0.58648329,  1.35940891, ...,  1.0806186 ,\n",
       "          1.43419322,  4.20421906],\n",
       "        [ 2.28428603,  0.01484794,  1.37580334, ...,  1.08507617,\n",
       "          1.40991   ,  4.16221967],\n",
       "        [ 2.36832065,  1.02015735,  1.37580334, ...,  1.08044598,\n",
       "          1.34897491,  4.06988111]]),\n",
       " ' ',\n",
       " array([0., 0., 0., ..., 0., 0., 0.]))"
      ]
     },
     "execution_count": 57,
     "metadata": {},
     "output_type": "execute_result"
    }
   ],
   "source": [
    "type(val),\" \",len(val),\" \", val[0],\" \",val[1]"
   ]
  },
  {
   "cell_type": "code",
   "execution_count": 58,
   "metadata": {},
   "outputs": [
    {
     "data": {
      "text/plain": [
       "((10273, 76), ' ', (10273,))"
      ]
     },
     "execution_count": 58,
     "metadata": {},
     "output_type": "execute_result"
    }
   ],
   "source": [
    "val[0].shape,\" \",val[1].shape"
   ]
  },
  {
   "cell_type": "code",
   "execution_count": 59,
   "metadata": {},
   "outputs": [],
   "source": [
    "df_val=pd.DataFrame(val[0])"
   ]
  },
  {
   "cell_type": "code",
   "execution_count": 60,
   "metadata": {},
   "outputs": [],
   "source": [
    "df_val['label']=val[1]\n",
    "df_val['label']=df_val['label'].astype('int')"
   ]
  },
  {
   "cell_type": "code",
   "execution_count": 61,
   "metadata": {},
   "outputs": [],
   "source": [
    "df_val.to_pickle('./df_val_76d_full.pkl')"
   ]
  },
  {
   "cell_type": "code",
   "execution_count": 62,
   "metadata": {},
   "outputs": [],
   "source": [
    "df_val_test=pd.read_pickle(\"./df_val_76d_full.pkl\")"
   ]
  },
  {
   "cell_type": "code",
   "execution_count": 63,
   "metadata": {},
   "outputs": [
    {
     "data": {
      "text/plain": [
       "0        float64\n",
       "1        float64\n",
       "2        float64\n",
       "3        float64\n",
       "4        float64\n",
       "          ...   \n",
       "72       float64\n",
       "73       float64\n",
       "74       float64\n",
       "75       float64\n",
       "label      int64\n",
       "Length: 77, dtype: object"
      ]
     },
     "execution_count": 63,
     "metadata": {},
     "output_type": "execute_result"
    }
   ],
   "source": [
    "df_val_test.dtypes"
   ]
  },
  {
   "cell_type": "code",
   "execution_count": 64,
   "metadata": {},
   "outputs": [
    {
     "data": {
      "text/plain": [
       "0    5991\n",
       "1    4282\n",
       "Name: label, dtype: int64"
      ]
     },
     "execution_count": 64,
     "metadata": {},
     "output_type": "execute_result"
    }
   ],
   "source": [
    "df_val_test.label.value_counts()"
   ]
  },
  {
   "cell_type": "code",
   "execution_count": null,
   "metadata": {},
   "outputs": [],
   "source": []
  },
  {
   "cell_type": "code",
   "execution_count": null,
   "metadata": {},
   "outputs": [],
   "source": []
  },
  {
   "cell_type": "code",
   "execution_count": null,
   "metadata": {},
   "outputs": [],
   "source": []
  },
  {
   "cell_type": "markdown",
   "metadata": {},
   "source": [
    "# 构造深度模型的训练集pkl "
   ]
  },
  {
   "cell_type": "code",
   "execution_count": 65,
   "metadata": {},
   "outputs": [
    {
     "data": {
      "text/plain": [
       "(tuple,\n",
       " ' ',\n",
       " 3,\n",
       " ' ',\n",
       " array([[ 0.76031799, -1.60426558, -0.51917572, ...,  0.31288807,\n",
       "         -0.22658083,  2.05358877],\n",
       "        [ 0.73176924, -1.77015547, -0.61262998, ...,  0.30233323,\n",
       "         -0.165528  ,  1.42604201],\n",
       "        [ 0.59527371, -1.7756132 , -0.62017819, ...,  0.30141826,\n",
       "         -0.0037065 ,  1.37404967],\n",
       "        ...,\n",
       "        [-2.11555491,  1.18543851,  1.18017485, ...,  0.85494565,\n",
       "          0.84204667,  1.33825565],\n",
       "        [-2.10483357, -0.10079794,  1.13333703, ...,  0.81623881,\n",
       "          0.88602094,  1.93028759],\n",
       "        [-1.77408804, -0.64174942,  1.08505427, ...,  0.77424293,\n",
       "          0.91555972,  2.36511371]]),\n",
       " ' ',\n",
       " array([0., 1., 1., ..., 0., 0., 0.]))"
      ]
     },
     "execution_count": 65,
     "metadata": {},
     "output_type": "execute_result"
    }
   ],
   "source": [
    "type(test),\" \",len(test),\" \",test[0],\" \",test[1]"
   ]
  },
  {
   "cell_type": "code",
   "execution_count": 66,
   "metadata": {},
   "outputs": [
    {
     "data": {
      "text/plain": [
       "((9991, 76), ' ', (9991,))"
      ]
     },
     "execution_count": 66,
     "metadata": {},
     "output_type": "execute_result"
    }
   ],
   "source": [
    "test[0].shape,\" \",test[1].shape"
   ]
  },
  {
   "cell_type": "code",
   "execution_count": 67,
   "metadata": {},
   "outputs": [],
   "source": [
    "df_test=pd.DataFrame(test[0])"
   ]
  },
  {
   "cell_type": "code",
   "execution_count": 68,
   "metadata": {},
   "outputs": [],
   "source": [
    "df_test['label']=test[1]\n",
    "df_test['label']=df_test['label'].astype('int')"
   ]
  },
  {
   "cell_type": "code",
   "execution_count": 69,
   "metadata": {},
   "outputs": [],
   "source": [
    "df_test.to_pickle('./df_test_76d_full.pkl')"
   ]
  },
  {
   "cell_type": "code",
   "execution_count": 70,
   "metadata": {},
   "outputs": [],
   "source": [
    "df_test_test=pd.read_pickle(\"./df_test_76d_full.pkl\")"
   ]
  },
  {
   "cell_type": "code",
   "execution_count": 71,
   "metadata": {},
   "outputs": [
    {
     "data": {
      "text/plain": [
       "0        float64\n",
       "1        float64\n",
       "2        float64\n",
       "3        float64\n",
       "4        float64\n",
       "          ...   \n",
       "72       float64\n",
       "73       float64\n",
       "74       float64\n",
       "75       float64\n",
       "label      int64\n",
       "Length: 77, dtype: object"
      ]
     },
     "execution_count": 71,
     "metadata": {},
     "output_type": "execute_result"
    }
   ],
   "source": [
    "df_test_test.dtypes"
   ]
  },
  {
   "cell_type": "code",
   "execution_count": 72,
   "metadata": {},
   "outputs": [
    {
     "data": {
      "text/plain": [
       "0    5926\n",
       "1    4065\n",
       "Name: label, dtype: int64"
      ]
     },
     "execution_count": 72,
     "metadata": {},
     "output_type": "execute_result"
    }
   ],
   "source": [
    "df_test_test.label.value_counts()"
   ]
  },
  {
   "cell_type": "code",
   "execution_count": null,
   "metadata": {},
   "outputs": [],
   "source": []
  },
  {
   "cell_type": "code",
   "execution_count": null,
   "metadata": {},
   "outputs": [],
   "source": []
  },
  {
   "cell_type": "markdown",
   "metadata": {},
   "source": [
    "# 加载预测文件（plane_data.npy） ((1089624, 76)==(1641*664*76))"
   ]
  },
  {
   "cell_type": "code",
   "execution_count": 29,
   "metadata": {},
   "outputs": [],
   "source": [
    "plane32_preddata=np.load(\"/disk3/zk/aboutoil/Shengli/data/plane_loc/plane_data.npy\")"
   ]
  },
  {
   "cell_type": "code",
   "execution_count": 30,
   "metadata": {},
   "outputs": [
    {
     "data": {
      "text/plain": [
       "(1089624, 76)"
      ]
     },
     "execution_count": 30,
     "metadata": {},
     "output_type": "execute_result"
    }
   ],
   "source": [
    "plane32_preddata.shape   #(1089624, 76)  ng32层大小为1641*664=1089624"
   ]
  },
  {
   "cell_type": "code",
   "execution_count": null,
   "metadata": {},
   "outputs": [],
   "source": []
  }
 ],
 "metadata": {
  "kernelspec": {
   "display_name": "Python [conda env:py77] *",
   "language": "python",
   "name": "conda-env-py77-py"
  },
  "language_info": {
   "codemirror_mode": {
    "name": "ipython",
    "version": 3
   },
   "file_extension": ".py",
   "mimetype": "text/x-python",
   "name": "python",
   "nbconvert_exporter": "python",
   "pygments_lexer": "ipython3",
   "version": "3.6.8"
  },
  "toc-autonumbering": true
 },
 "nbformat": 4,
 "nbformat_minor": 4
}
