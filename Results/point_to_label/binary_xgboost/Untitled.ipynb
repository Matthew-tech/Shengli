{
 "cells": [
  {
   "cell_type": "code",
   "execution_count": 6,
   "metadata": {
    "collapsed": true
   },
   "outputs": [],
   "source": [
    "import pickle"
   ]
  },
  {
   "cell_type": "code",
   "execution_count": 9,
   "metadata": {
    "collapsed": true
   },
   "outputs": [],
   "source": [
    "with open (\"optimal_params.pkl\",'rb') as file:\n",
    "    params = pickle.load(file)"
   ]
  },
  {
   "cell_type": "code",
   "execution_count": 10,
   "metadata": {},
   "outputs": [
    {
     "data": {
      "text/plain": [
       "{'ap': 0.61682811267060134,\n",
       " 'colsample_bytree': 0.7,\n",
       " 'eta': 0.01,\n",
       " 'eval_metric': 'map',\n",
       " 'lambda': 0.01,\n",
       " 'max_depth': 12,\n",
       " 'min_child_weigh': 1,\n",
       " 'nthread': 30,\n",
       " 'objective': 'binary:logistic',\n",
       " 'silent': 1,\n",
       " 'sub_sample': 0.7}"
      ]
     },
     "execution_count": 10,
     "metadata": {},
     "output_type": "execute_result"
    }
   ],
   "source": [
    "params"
   ]
  },
  {
   "cell_type": "code",
   "execution_count": 11,
   "metadata": {
    "collapsed": true
   },
   "outputs": [],
   "source": [
    "with open (\"optimal_params.pkl\",'rb') as file:\n",
    "    params = pickle.load(file)"
   ]
  },
  {
   "cell_type": "code",
   "execution_count": 12,
   "metadata": {},
   "outputs": [
    {
     "data": {
      "text/plain": [
       "{'ap': 0.62099427384333561,\n",
       " 'colsample_bytree': 0.7,\n",
       " 'eta': 0.01,\n",
       " 'eval_metric': 'map',\n",
       " 'lambda': 0.05,\n",
       " 'max_depth': 12,\n",
       " 'min_child_weigh': 1,\n",
       " 'nthread': 30,\n",
       " 'objective': 'binary:logistic',\n",
       " 'silent': 1,\n",
       " 'sub_sample': 0.7}"
      ]
     },
     "execution_count": 12,
     "metadata": {},
     "output_type": "execute_result"
    }
   ],
   "source": [
    "params"
   ]
  },
  {
   "cell_type": "code",
   "execution_count": 13,
   "metadata": {
    "collapsed": true
   },
   "outputs": [],
   "source": [
    "with open (\"optimal_params.pkl\",'rb') as file:\n",
    "    params = pickle.load(file)"
   ]
  },
  {
   "cell_type": "code",
   "execution_count": 14,
   "metadata": {},
   "outputs": [
    {
     "data": {
      "text/plain": [
       "{'ap': 0.62099427384333561,\n",
       " 'colsample_bytree': 0.7,\n",
       " 'eta': 0.01,\n",
       " 'eval_metric': 'map',\n",
       " 'lambda': 0.05,\n",
       " 'max_depth': 12,\n",
       " 'min_child_weigh': 1,\n",
       " 'nthread': 30,\n",
       " 'objective': 'binary:logistic',\n",
       " 'silent': 1,\n",
       " 'sub_sample': 0.7}"
      ]
     },
     "execution_count": 14,
     "metadata": {},
     "output_type": "execute_result"
    }
   ],
   "source": [
    "params"
   ]
  },
  {
   "cell_type": "code",
   "execution_count": 1,
   "metadata": {
    "collapsed": true
   },
   "outputs": [],
   "source": [
    "import numpy as np"
   ]
  },
  {
   "cell_type": "code",
   "execution_count": 2,
   "metadata": {
    "collapsed": true
   },
   "outputs": [],
   "source": [
    "data = np.load(\"predict_result/plane_result.npy\")"
   ]
  },
  {
   "cell_type": "code",
   "execution_count": 5,
   "metadata": {},
   "outputs": [
    {
     "data": {
      "text/plain": [
       "(1641, 664)"
      ]
     },
     "execution_count": 5,
     "metadata": {},
     "output_type": "execute_result"
    }
   ],
   "source": [
    "data.shape"
   ]
  },
  {
   "cell_type": "code",
   "execution_count": 6,
   "metadata": {},
   "outputs": [
    {
     "data": {
      "text/plain": [
       "array([[ 0.30081785,  0.30081785,  0.30081785, ...,  0.30081785,\n",
       "         0.30081785,  0.30081785],\n",
       "       [ 0.30081785,  0.30081785,  0.30081785, ...,  0.30081785,\n",
       "         0.30081785,  0.30081785],\n",
       "       [ 0.30081785,  0.30081785,  0.30081785, ...,  0.30081785,\n",
       "         0.30081785,  0.30081785],\n",
       "       ..., \n",
       "       [ 0.30081785,  0.30081785,  0.30081785, ...,  0.30081785,\n",
       "         0.30081785,  0.30081785],\n",
       "       [ 0.30081785,  0.30081785,  0.30081785, ...,  0.30081785,\n",
       "         0.30081785,  0.30081785],\n",
       "       [ 0.30081785,  0.30081785,  0.30081785, ...,  0.30081785,\n",
       "         0.30081785,  0.30081785]], dtype=float32)"
      ]
     },
     "execution_count": 6,
     "metadata": {},
     "output_type": "execute_result"
    }
   ],
   "source": [
    "data"
   ]
  },
  {
   "cell_type": "code",
   "execution_count": null,
   "metadata": {
    "collapsed": true
   },
   "outputs": [],
   "source": []
  }
 ],
 "metadata": {
  "kernelspec": {
   "display_name": "Python 3",
   "language": "python",
   "name": "python3"
  },
  "language_info": {
   "codemirror_mode": {
    "name": "ipython",
    "version": 3
   },
   "file_extension": ".py",
   "mimetype": "text/x-python",
   "name": "python",
   "nbconvert_exporter": "python",
   "pygments_lexer": "ipython3",
   "version": "3.6.2"
  }
 },
 "nbformat": 4,
 "nbformat_minor": 2
}
