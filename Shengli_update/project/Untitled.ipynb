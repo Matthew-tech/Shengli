{
 "cells": [
  {
   "cell_type": "code",
   "execution_count": 1,
   "metadata": {
    "collapsed": true
   },
   "outputs": [],
   "source": [
    "def presentation(samples):\n",
    "    test_range = []\n",
    "    for wellname in samples.keys():\n",
    "        test_range.append(len(samples[wellname]))\n",
    "    filename = 'evaluate_metrics.csv'\n",
    "    \n",
    "    SVC_path = test_result_filepath\n",
    "    save_path = test_presentation_filepath\n",
    "    pred = []\n",
    "    label = []\n",
    "\n",
    "    xc = []\n",
    "    correct = []\n",
    "    xw = []\n",
    "    wrong = []\n",
    "    x1 = 0\n",
    "    x2 = -1\n",
    "    os.chdir(SVC_path)\n",
    "\n",
    "    with open('predict_result.csv','r') as file:#pre_label\n",
    "        content = csv.reader(file)\n",
    "        for i,line in enumerate(content):\n",
    "            pred.append(float(line[0]))\n",
    "            label.append(float(line[1]))\n",
    "\n",
    "    for i,well_range in enumerate(test_range[:-1]):\n",
    "        a = np.arange(0,well_range,1)\n",
    "        x2 = x1\n",
    "        x1 = x1 + well_range\n",
    "        width = 100\n",
    "        plt.figure(2,figsize=(10,15))\n",
    "        if i == 0:\n",
    "            pred1 = np.repeat(pred[-1*x1:],width)\n",
    "            pred2 = np.reshape(pred1, (well_range,width))\n",
    "            label1 = np.repeat(label[-1*x1:], width)\n",
    "            label2 = np.reshape(label1, (well_range, width))\n",
    "            plt.subplot(221)\n",
    "            plt.imshow(label2)\n",
    "            plt.subplot(222)\n",
    "            plt.imshow(pred2)\n",
    "            \n",
    "            os.chdir(save_path)\n",
    "            plt.title('Well {} Result Presentation'.format(i),fontsize=15)\n",
    "            plt.xlabel(\"Well Depth\")\n",
    "            plt.ylabel(\"Reservoir\")\n",
    "            legend = plt.legend(loc='center left',bbox_to_anchor=(0.9,0.9),borderpad=0.1,labelspacing=0.1)\n",
    "            os.chdir(save_path)\n",
    "            plt.savefig('Well {}.png'.format(i),dpi=500)\n",
    "            plt.show()\n",
    "            plt.close('all')\n",
    "        else:\n",
    "            pred1 = np.repeat(pred[-1*x1:-1*x2],width)\n",
    "            pred2 = np.reshape(pred1, (well_range,width))\n",
    "            label1 = np.repeat(label[-1*x1:-1*x2], width)\n",
    "            label2 = np.reshape(label1, (well_range, width))\n",
    "            plt.subplot(221)\n",
    "            plt.imshow(label2)\n",
    "            plt.subplot(222)\n",
    "            plt.imshow(pred2)\n",
    "            \n",
    "            os.chdir(save_path)\n",
    "            plt.title('Well {} Result Presentation'.format(i),fontsize=15)\n",
    "            plt.xlabel(\"Well Depth\")\n",
    "            plt.ylabel(\"Reservoir\")\n",
    "            legend = plt.legend(loc='center left',bbox_to_anchor=(0.9,0.9),borderpad=0.1,labelspacing=0.1)\n",
    "            os.chdir(save_path)\n",
    "            plt.savefig('Well {}.png'.format(i),dpi=500)\n",
    "            plt.show()\n",
    "            plt.close('all')"
   ]
  },
  {
   "cell_type": "code",
   "execution_count": 3,
   "metadata": {},
   "outputs": [
    {
     "ename": "FileNotFoundError",
     "evalue": "[Errno 2] No such file or directory: './seismic_data_path.txt'",
     "output_type": "error",
     "traceback": [
      "\u001b[0;31m---------------------------------------------------------------------------\u001b[0m",
      "\u001b[0;31mFileNotFoundError\u001b[0m                         Traceback (most recent call last)",
      "\u001b[0;32m<ipython-input-3-643bb510cfff>\u001b[0m in \u001b[0;36m<module>\u001b[0;34m()\u001b[0m\n\u001b[1;32m      1\u001b[0m \u001b[0;32mimport\u001b[0m \u001b[0msys\u001b[0m\u001b[0;34m\u001b[0m\u001b[0m\n\u001b[0;32m----> 2\u001b[0;31m \u001b[0;32mfrom\u001b[0m \u001b[0mdata_prepare\u001b[0m\u001b[0;34m.\u001b[0m\u001b[0mpoint_to_label\u001b[0m\u001b[0;34m.\u001b[0m\u001b[0mdata_util_shallow\u001b[0m \u001b[0;32mimport\u001b[0m \u001b[0;34m*\u001b[0m\u001b[0;34m\u001b[0m\u001b[0m\n\u001b[0m\u001b[1;32m      3\u001b[0m \u001b[0;32mimport\u001b[0m \u001b[0mnumpy\u001b[0m \u001b[0;32mas\u001b[0m \u001b[0mnp\u001b[0m\u001b[0;34m\u001b[0m\u001b[0m\n\u001b[1;32m      4\u001b[0m \u001b[0;32mimport\u001b[0m \u001b[0mcsv\u001b[0m\u001b[0;34m\u001b[0m\u001b[0m\n\u001b[1;32m      5\u001b[0m \u001b[0;32mimport\u001b[0m \u001b[0mos\u001b[0m\u001b[0;34m\u001b[0m\u001b[0m\n",
      "\u001b[0;32m/home/eric/workspace/Python_workspace/Shengli_update/project/data_prepare/point_to_label/data_util_shallow.py\u001b[0m in \u001b[0;36m<module>\u001b[0;34m()\u001b[0m\n\u001b[1;32m      5\u001b[0m \u001b[0;31m# @File    : data_util_shallow.py\u001b[0m\u001b[0;34m\u001b[0m\u001b[0;34m\u001b[0m\u001b[0m\n\u001b[1;32m      6\u001b[0m \u001b[0;31m# 生成浅层方法用到的数据输入\u001b[0m\u001b[0;34m\u001b[0m\u001b[0;34m\u001b[0m\u001b[0m\n\u001b[0;32m----> 7\u001b[0;31m \u001b[0;32mfrom\u001b[0m \u001b[0mConfigure\u001b[0m\u001b[0;34m.\u001b[0m\u001b[0mglobal_config\u001b[0m \u001b[0;32mimport\u001b[0m \u001b[0mfile_loc_gl\u001b[0m\u001b[0;34m\u001b[0m\u001b[0m\n\u001b[0m\u001b[1;32m      8\u001b[0m \u001b[0;32mimport\u001b[0m \u001b[0mos\u001b[0m\u001b[0;34m\u001b[0m\u001b[0m\n\u001b[1;32m      9\u001b[0m \u001b[0;32mfrom\u001b[0m \u001b[0mdata_prepare\u001b[0m\u001b[0;34m.\u001b[0m\u001b[0mpoint_to_label\u001b[0m\u001b[0;34m.\u001b[0m\u001b[0mget_input_data_p2l\u001b[0m \u001b[0;32mimport\u001b[0m \u001b[0mget_labels\u001b[0m\u001b[0;34m,\u001b[0m \u001b[0mget_seismic_data\u001b[0m\u001b[0;34m,\u001b[0m \u001b[0mget_ts_data\u001b[0m\u001b[0;34m\u001b[0m\u001b[0m\n",
      "\u001b[0;32m/home/eric/workspace/Python_workspace/Shengli_update/project/Configure/global_config.py\u001b[0m in \u001b[0;36m<module>\u001b[0;34m()\u001b[0m\n\u001b[1;32m     75\u001b[0m         \u001b[0;32mwith\u001b[0m \u001b[0mopen\u001b[0m\u001b[0;34m(\u001b[0m\u001b[0;34m'./seismic_data_path.txt'\u001b[0m\u001b[0;34m,\u001b[0m\u001b[0;34m'r'\u001b[0m\u001b[0;34m)\u001b[0m \u001b[0;32mas\u001b[0m \u001b[0mfile\u001b[0m\u001b[0;34m:\u001b[0m\u001b[0;34m\u001b[0m\u001b[0m\n\u001b[1;32m     76\u001b[0m             \u001b[0;32mreturn\u001b[0m \u001b[0mfile\u001b[0m\u001b[0;34m.\u001b[0m\u001b[0mread\u001b[0m\u001b[0;34m(\u001b[0m\u001b[0;34m)\u001b[0m\u001b[0;34m\u001b[0m\u001b[0m\n\u001b[0;32m---> 77\u001b[0;31m \u001b[0mfile_loc_gl\u001b[0m \u001b[0;34m=\u001b[0m \u001b[0mfile_loc_global\u001b[0m\u001b[0;34m(\u001b[0m\u001b[0;34m)\u001b[0m\u001b[0;34m\u001b[0m\u001b[0m\n\u001b[0m\u001b[1;32m     78\u001b[0m \u001b[0;34m\u001b[0m\u001b[0m\n\u001b[1;32m     79\u001b[0m \u001b[0;32mif\u001b[0m \u001b[0m__name__\u001b[0m \u001b[0;34m==\u001b[0m \u001b[0;34m'__main__'\u001b[0m\u001b[0;34m:\u001b[0m\u001b[0;34m\u001b[0m\u001b[0m\n",
      "\u001b[0;32m/home/eric/workspace/Python_workspace/Shengli_update/project/Configure/global_config.py\u001b[0m in \u001b[0;36m__init__\u001b[0;34m(self)\u001b[0m\n\u001b[1;32m     44\u001b[0m         \u001b[0mself\u001b[0m\u001b[0;34m.\u001b[0m\u001b[0mwell_data_dir\u001b[0m \u001b[0;34m=\u001b[0m \u001b[0;34m'data/1-well'\u001b[0m\u001b[0;34m\u001b[0m\u001b[0m\n\u001b[1;32m     45\u001b[0m         \u001b[0mself\u001b[0m\u001b[0;34m.\u001b[0m\u001b[0mwell_loc_file\u001b[0m \u001b[0;34m=\u001b[0m \u001b[0mos\u001b[0m\u001b[0;34m.\u001b[0m\u001b[0mpath\u001b[0m\u001b[0;34m.\u001b[0m\u001b[0mjoin\u001b[0m\u001b[0;34m(\u001b[0m\u001b[0mself\u001b[0m\u001b[0;34m.\u001b[0m\u001b[0mwell_data_dir\u001b[0m\u001b[0;34m,\u001b[0m \u001b[0;34m'well_location_new.csv'\u001b[0m\u001b[0;34m)\u001b[0m\u001b[0;34m\u001b[0m\u001b[0m\n\u001b[0;32m---> 46\u001b[0;31m         \u001b[0mself\u001b[0m\u001b[0;34m.\u001b[0m\u001b[0mseismic_sgy_file_path_base\u001b[0m \u001b[0;34m=\u001b[0m \u001b[0mself\u001b[0m\u001b[0;34m.\u001b[0m\u001b[0mget_seismic_data_filepath\u001b[0m\u001b[0;34m(\u001b[0m\u001b[0;34m)\u001b[0m  \u001b[0;31m# 修改\u001b[0m\u001b[0;34m\u001b[0m\u001b[0m\n\u001b[0m\u001b[1;32m     47\u001b[0m         \u001b[0mself\u001b[0m\u001b[0;34m.\u001b[0m\u001b[0mfull_train_data\u001b[0m \u001b[0;34m=\u001b[0m \u001b[0;34m'data/full_train_data'\u001b[0m  \u001b[0;31m# 'data/full_train_data/'修改\u001b[0m\u001b[0;34m\u001b[0m\u001b[0m\n\u001b[1;32m     48\u001b[0m         \u001b[0mself\u001b[0m\u001b[0;34m.\u001b[0m\u001b[0mwell_post_data\u001b[0m \u001b[0;34m=\u001b[0m \u001b[0mos\u001b[0m\u001b[0;34m.\u001b[0m\u001b[0mpath\u001b[0m\u001b[0;34m.\u001b[0m\u001b[0mjoin\u001b[0m\u001b[0;34m(\u001b[0m\u001b[0mself\u001b[0m\u001b[0;34m.\u001b[0m\u001b[0mwell_data_dir\u001b[0m\u001b[0;34m,\u001b[0m \u001b[0;34m'post_data'\u001b[0m\u001b[0;34m)\u001b[0m\u001b[0;34m\u001b[0m\u001b[0m\n",
      "\u001b[0;32m/home/eric/workspace/Python_workspace/Shengli_update/project/Configure/global_config.py\u001b[0m in \u001b[0;36mget_seismic_data_filepath\u001b[0;34m(self)\u001b[0m\n\u001b[1;32m     73\u001b[0m \u001b[0;34m\u001b[0m\u001b[0m\n\u001b[1;32m     74\u001b[0m     \u001b[0;32mdef\u001b[0m \u001b[0mget_seismic_data_filepath\u001b[0m\u001b[0;34m(\u001b[0m\u001b[0mself\u001b[0m\u001b[0;34m)\u001b[0m\u001b[0;34m:\u001b[0m\u001b[0;34m\u001b[0m\u001b[0m\n\u001b[0;32m---> 75\u001b[0;31m         \u001b[0;32mwith\u001b[0m \u001b[0mopen\u001b[0m\u001b[0;34m(\u001b[0m\u001b[0;34m'./seismic_data_path.txt'\u001b[0m\u001b[0;34m,\u001b[0m\u001b[0;34m'r'\u001b[0m\u001b[0;34m)\u001b[0m \u001b[0;32mas\u001b[0m \u001b[0mfile\u001b[0m\u001b[0;34m:\u001b[0m\u001b[0;34m\u001b[0m\u001b[0m\n\u001b[0m\u001b[1;32m     76\u001b[0m             \u001b[0;32mreturn\u001b[0m \u001b[0mfile\u001b[0m\u001b[0;34m.\u001b[0m\u001b[0mread\u001b[0m\u001b[0;34m(\u001b[0m\u001b[0;34m)\u001b[0m\u001b[0;34m\u001b[0m\u001b[0m\n\u001b[1;32m     77\u001b[0m \u001b[0mfile_loc_gl\u001b[0m \u001b[0;34m=\u001b[0m \u001b[0mfile_loc_global\u001b[0m\u001b[0;34m(\u001b[0m\u001b[0;34m)\u001b[0m\u001b[0;34m\u001b[0m\u001b[0m\n",
      "\u001b[0;31mFileNotFoundError\u001b[0m: [Errno 2] No such file or directory: './seismic_data_path.txt'"
     ]
    }
   ],
   "source": [
    "import sys\n",
    "from data_prepare.point_to_label.data_util_shallow import *\n",
    "import numpy as np\n",
    "import csv\n",
    "import os\n",
    "import matplotlib.pyplot as plt\n",
    "\n",
    "train_data, validation_data, test_data = get_input()\n",
    "presentation(test_data[2])"
   ]
  },
  {
   "cell_type": "code",
   "execution_count": 1,
   "metadata": {
    "collapsed": true
   },
   "outputs": [],
   "source": [
    "import os"
   ]
  },
  {
   "cell_type": "code",
   "execution_count": 1,
   "metadata": {},
   "outputs": [
    {
     "name": "stderr",
     "output_type": "stream",
     "text": [
      "/usr/local/anaconda3/lib/python3.6/site-packages/sklearn/cross_validation.py:41: DeprecationWarning: This module was deprecated in version 0.18 in favor of the model_selection module into which all the refactored classes and functions are moved. Also note that the interface of the new CV iterators are different from that of this module. This module will be removed in 0.20.\n",
      "  \"This module will be removed in 0.20.\", DeprecationWarning)\n"
     ]
    }
   ],
   "source": [
    "from models.Shallowmodel.prediction.xgboost_predict import *"
   ]
  },
  {
   "cell_type": "code",
   "execution_count": 4,
   "metadata": {
    "collapsed": true
   },
   "outputs": [],
   "source": [
    "plane_filepath = \"/home/eric/workspace/Python_workspace/Shengli_update/project/data/plane_loc/ng32sz_grid_28jun_154436.p701\""
   ]
  },
  {
   "cell_type": "code",
   "execution_count": 6,
   "metadata": {
    "collapsed": true
   },
   "outputs": [],
   "source": [
    "data,time = read_plane_loc(plane_filepath)"
   ]
  },
  {
   "cell_type": "code",
   "execution_count": 9,
   "metadata": {},
   "outputs": [
    {
     "data": {
      "text/plain": [
       "651.107861060329"
      ]
     },
     "execution_count": 9,
     "metadata": {},
     "output_type": "execute_result"
    }
   ],
   "source": [
    "len(data) / 1641"
   ]
  },
  {
   "cell_type": "code",
   "execution_count": 11,
   "metadata": {},
   "outputs": [
    {
     "data": {
      "text/plain": [
       "651.107861060329"
      ]
     },
     "execution_count": 11,
     "metadata": {},
     "output_type": "execute_result"
    }
   ],
   "source": [
    "len(time) /1641"
   ]
  },
  {
   "cell_type": "code",
   "execution_count": 13,
   "metadata": {},
   "outputs": [
    {
     "data": {
      "text/plain": [
       "3.0"
      ]
     },
     "execution_count": 13,
     "metadata": {},
     "output_type": "execute_result"
    }
   ],
   "source": [
    "np.ceil(5/2)"
   ]
  },
  {
   "cell_type": "code",
   "execution_count": 14,
   "metadata": {
    "collapsed": true
   },
   "outputs": [],
   "source": [
    "x = {}"
   ]
  },
  {
   "cell_type": "code",
   "execution_count": 15,
   "metadata": {
    "collapsed": true
   },
   "outputs": [],
   "source": [
    "x[1] = (13,31)"
   ]
  },
  {
   "cell_type": "code",
   "execution_count": 23,
   "metadata": {
    "collapsed": true
   },
   "outputs": [],
   "source": [
    "import math"
   ]
  },
  {
   "cell_type": "code",
   "execution_count": 28,
   "metadata": {},
   "outputs": [
    {
     "name": "stdout",
     "output_type": "stream",
     "text": [
      "76\n"
     ]
    }
   ],
   "source": [
    "left_thread = 76\n",
    "thread_nb = 32\n",
    "x =[]\n",
    "for epoch in range(math.ceil(76/thread_nb)):\n",
    "    if left_thread >= thread_nb:\n",
    "        thread_nb = 32\n",
    "    else:\n",
    "        thread_nb = left_thread\n",
    "\n",
    "    left_thread = left_thread - thread_nb\n",
    "    threads = []\n",
    "    for i in range(thread_nb):\n",
    "        index = i + epoch * 32\n",
    "        x.append(index)\n",
    "print(len(x))"
   ]
  },
  {
   "cell_type": "code",
   "execution_count": 31,
   "metadata": {
    "collapsed": true
   },
   "outputs": [],
   "source": [
    "from data_prepare.point_to_label.data_util_shallow import *\n",
    "import numpy as np\n",
    "train_data, validation_data, test_data = get_input(paras = {'norm':'GN','ts':False})"
   ]
  },
  {
   "cell_type": "code",
   "execution_count": 32,
   "metadata": {
    "collapsed": true
   },
   "outputs": [],
   "source": [
    "train_x = train_data[0]\n",
    "train_y = train_data[1]"
   ]
  },
  {
   "cell_type": "code",
   "execution_count": 36,
   "metadata": {},
   "outputs": [
    {
     "data": {
      "text/plain": [
       "(29799, 76)"
      ]
     },
     "execution_count": 36,
     "metadata": {},
     "output_type": "execute_result"
    }
   ],
   "source": [
    "train_x.shape"
   ]
  },
  {
   "cell_type": "code",
   "execution_count": 1,
   "metadata": {},
   "outputs": [],
   "source": [
    "import gc"
   ]
  },
  {
   "cell_type": "code",
   "execution_count": 2,
   "metadata": {},
   "outputs": [
    {
     "data": {
      "text/plain": [
       "0"
      ]
     },
     "execution_count": 2,
     "metadata": {},
     "output_type": "execute_result"
    }
   ],
   "source": [
    "gc.collect()"
   ]
  },
  {
   "cell_type": "code",
   "execution_count": 3,
   "metadata": {
    "collapsed": true
   },
   "outputs": [],
   "source": [
    "import os"
   ]
  },
  {
   "cell_type": "code",
   "execution_count": 6,
   "metadata": {},
   "outputs": [
    {
     "data": {
      "text/plain": [
       "'/disk2/Shengli_update/project'"
      ]
     },
     "execution_count": 6,
     "metadata": {},
     "output_type": "execute_result"
    }
   ],
   "source": [
    "os.getcwd()"
   ]
  },
  {
   "cell_type": "code",
   "execution_count": 7,
   "metadata": {
    "collapsed": true
   },
   "outputs": [],
   "source": [
    "os.chdir(\"/disk2/Shengli_update/\")"
   ]
  },
  {
   "cell_type": "code",
   "execution_count": 8,
   "metadata": {},
   "outputs": [
    {
     "data": {
      "text/plain": [
       "'/disk2/Shengli_update'"
      ]
     },
     "execution_count": 8,
     "metadata": {},
     "output_type": "execute_result"
    }
   ],
   "source": [
    "os.getcwd()"
   ]
  },
  {
   "cell_type": "code",
   "execution_count": null,
   "metadata": {
    "collapsed": true
   },
   "outputs": [],
   "source": []
  }
 ],
 "metadata": {
  "kernelspec": {
   "display_name": "Python 3",
   "language": "python",
   "name": "python3"
  },
  "language_info": {
   "codemirror_mode": {
    "name": "ipython",
    "version": 3
   },
   "file_extension": ".py",
   "mimetype": "text/x-python",
   "name": "python",
   "nbconvert_exporter": "python",
   "pygments_lexer": "ipython3",
   "version": "3.6.1"
  }
 },
 "nbformat": 4,
 "nbformat_minor": 2
}
