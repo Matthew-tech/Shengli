{
 "cells": [
  {
   "cell_type": "code",
   "execution_count": 1,
   "metadata": {
    "collapsed": true
   },
   "outputs": [],
   "source": [
    "\n",
    "def presentation(samples):\n",
    "    test_range = []\n",
    "    for wellname in samples.keys():\n",
    "        test_range.append(len(samples[wellname]))\n",
    "    filename = 'evaluate_metrics.csv'\n",
    "    \n",
    "    SVC_path = test_result_filepath\n",
    "    save_path = test_presentation_filepath\n",
    "    pred = []\n",
    "    label = []\n",
    "\n",
    "    xc = []\n",
    "    correct = []\n",
    "    xw = []\n",
    "    wrong = []\n",
    "    x1 = 0\n",
    "    x2 = -1\n",
    "    os.chdir(SVC_path)\n",
    "\n",
    "    with open('predict_result.csv','r') as file:#pre_label\n",
    "        content = csv.reader(file)\n",
    "        for i,line in enumerate(content):\n",
    "            pred.append(float(line[0]))\n",
    "            label.append(float(line[1]))\n",
    "\n",
    "    for i,well_range in enumerate(test_range[:-1]):\n",
    "        a = np.arange(0,well_range,1)\n",
    "        x2 = x1\n",
    "        x1 = x1 + well_range\n",
    "        width = 100\n",
    "        plt.figure(2,figsize=(10,15))\n",
    "        if i == 0:\n",
    "            pred1 = np.repeat(pred[-1*x1:],width)\n",
    "            pred2 = np.reshape(pred1, (well_range,width))\n",
    "            label1 = np.repeat(label[-1*x1:], width)\n",
    "            label2 = np.reshape(label1, (well_range, width))\n",
    "            plt.subplot(221)\n",
    "            plt.imshow(label2)\n",
    "            plt.subplot(222)\n",
    "            plt.imshow(pred2)\n",
    "            \n",
    "            os.chdir(save_path)\n",
    "            plt.title('Well {} Result Presentation'.format(i),fontsize=15)\n",
    "            plt.xlabel(\"Well Depth\")\n",
    "            plt.ylabel(\"Reservoir\")\n",
    "            legend = plt.legend(loc='center left',bbox_to_anchor=(0.9,0.9),borderpad=0.1,labelspacing=0.1)\n",
    "            os.chdir(save_path)\n",
    "            plt.savefig('Well {}.png'.format(i),dpi=500)\n",
    "            plt.show()\n",
    "            plt.close('all')\n",
    "        else:\n",
    "            pred1 = np.repeat(pred[-1*x1:-1*x2],width)\n",
    "            pred2 = np.reshape(pred1, (well_range,width))\n",
    "            label1 = np.repeat(label[-1*x1:-1*x2], width)\n",
    "            label2 = np.reshape(label1, (well_range, width))\n",
    "            plt.subplot(221)\n",
    "            plt.imshow(label2)\n",
    "            plt.subplot(222)\n",
    "            plt.imshow(pred2)\n",
    "            \n",
    "            os.chdir(save_path)\n",
    "            plt.title('Well {} Result Presentation'.format(i),fontsize=15)\n",
    "            plt.xlabel(\"Well Depth\")\n",
    "            plt.ylabel(\"Reservoir\")\n",
    "            legend = plt.legend(loc='center left',bbox_to_anchor=(0.9,0.9),borderpad=0.1,labelspacing=0.1)\n",
    "            os.chdir(save_path)\n",
    "            plt.savefig('Well {}.png'.format(i),dpi=500)\n",
    "            plt.show()\n",
    "            plt.close('all')"
   ]
  },
  {
   "cell_type": "code",
   "execution_count": 43,
   "metadata": {},
   "outputs": [
    {
     "ename": "ModuleNotFoundError",
     "evalue": "No module named 'data_prepare'",
     "output_type": "error",
     "traceback": [
      "\u001b[0;31m---------------------------------------------------------------------------\u001b[0m",
      "\u001b[0;31mModuleNotFoundError\u001b[0m                       Traceback (most recent call last)",
      "\u001b[0;32m<ipython-input-43-ddac370862d2>\u001b[0m in \u001b[0;36m<module>\u001b[0;34m()\u001b[0m\n\u001b[1;32m      1\u001b[0m \u001b[0;34m\u001b[0m\u001b[0m\n\u001b[1;32m      2\u001b[0m \u001b[0;32mimport\u001b[0m \u001b[0msys\u001b[0m\u001b[0;34m\u001b[0m\u001b[0m\n\u001b[0;32m----> 3\u001b[0;31m \u001b[0;32mfrom\u001b[0m \u001b[0mdata_prepare\u001b[0m\u001b[0;34m.\u001b[0m\u001b[0mpoint_to_label\u001b[0m\u001b[0;34m.\u001b[0m\u001b[0mdata_util_shallow\u001b[0m \u001b[0;32mimport\u001b[0m \u001b[0;34m*\u001b[0m\u001b[0;34m\u001b[0m\u001b[0m\n\u001b[0m\u001b[1;32m      4\u001b[0m \u001b[0;32mimport\u001b[0m \u001b[0mnumpy\u001b[0m \u001b[0;32mas\u001b[0m \u001b[0mnp\u001b[0m\u001b[0;34m\u001b[0m\u001b[0m\n\u001b[1;32m      5\u001b[0m \u001b[0;32mimport\u001b[0m \u001b[0mcsv\u001b[0m\u001b[0;34m\u001b[0m\u001b[0m\n",
      "\u001b[0;31mModuleNotFoundError\u001b[0m: No module named 'data_prepare'"
     ]
    }
   ],
   "source": [
    "\n",
    "import sys\n",
    "from data_prepare.point_to_label.data_util_shallow import *\n",
    "import numpy as np\n",
    "import csv\n",
    "import os\n",
    "import matplotlib.pyplot as plt\n",
    "\n",
    "train_data, validation_data, test_data = get_input()\n",
    "presentation(test_data[2])\n"
   ]
  },
  {
   "cell_type": "code",
   "execution_count": 3,
   "metadata": {
    "collapsed": true
   },
   "outputs": [],
   "source": [
    "from sklearn.metrics import average_precision_score"
   ]
  },
  {
   "cell_type": "code",
   "execution_count": 6,
   "metadata": {
    "collapsed": true
   },
   "outputs": [],
   "source": [
    "x = [1,0,1,0]\n",
    "y = [0.3,0.4,0.6,0.1]"
   ]
  },
  {
   "cell_type": "code",
   "execution_count": 7,
   "metadata": {},
   "outputs": [
    {
     "data": {
      "text/plain": [
       "0.83333333333333326"
      ]
     },
     "execution_count": 7,
     "metadata": {},
     "output_type": "execute_result"
    }
   ],
   "source": [
    "average_precision_score(x,y)"
   ]
  },
  {
   "cell_type": "code",
   "execution_count": 17,
   "metadata": {
    "collapsed": true
   },
   "outputs": [],
   "source": [
    "x = {'x':1}\n",
    "m = {}\n",
    "m = x"
   ]
  },
  {
   "cell_type": "code",
   "execution_count": 10,
   "metadata": {
    "collapsed": true
   },
   "outputs": [],
   "source": [
    "import numpy as np"
   ]
  },
  {
   "cell_type": "code",
   "execution_count": 18,
   "metadata": {},
   "outputs": [
    {
     "data": {
      "text/plain": [
       "{'x': 1}"
      ]
     },
     "execution_count": 18,
     "metadata": {},
     "output_type": "execute_result"
    }
   ],
   "source": [
    "m"
   ]
  },
  {
   "cell_type": "code",
   "execution_count": 13,
   "metadata": {},
   "outputs": [
    {
     "name": "stdout",
     "output_type": "stream",
     "text": [
      "[1, 2, 3]\n"
     ]
    }
   ],
   "source": [
    "print(x)"
   ]
  },
  {
   "cell_type": "code",
   "execution_count": 19,
   "metadata": {},
   "outputs": [
    {
     "data": {
      "text/plain": [
       "{'x': 1}"
      ]
     },
     "execution_count": 19,
     "metadata": {},
     "output_type": "execute_result"
    }
   ],
   "source": [
    "m"
   ]
  },
  {
   "cell_type": "code",
   "execution_count": 29,
   "metadata": {
    "collapsed": true
   },
   "outputs": [],
   "source": [
    "import pickle"
   ]
  },
  {
   "cell_type": "code",
   "execution_count": 31,
   "metadata": {
    "collapsed": true
   },
   "outputs": [],
   "source": [
    "f = open('test.pkl','wb')  \n",
    "pickle.dump(m,f)  \n",
    "f.close()  "
   ]
  },
  {
   "cell_type": "code",
   "execution_count": 32,
   "metadata": {},
   "outputs": [
    {
     "name": "stdout",
     "output_type": "stream",
     "text": [
      "{'x': 1}\n"
     ]
    }
   ],
   "source": [
    "ff = open('test.pkl','rb')\n",
    "data = pickle.load(ff)\n",
    "print(data)"
   ]
  },
  {
   "cell_type": "code",
   "execution_count": 34,
   "metadata": {
    "collapsed": true
   },
   "outputs": [],
   "source": [
    "m[\"acc\"] = 2"
   ]
  },
  {
   "cell_type": "code",
   "execution_count": 36,
   "metadata": {
    "collapsed": true
   },
   "outputs": [],
   "source": [
    "import matplotlib.pyplot as plt\n",
    "%matplotlib inline"
   ]
  },
  {
   "cell_type": "code",
   "execution_count": 42,
   "metadata": {},
   "outputs": [
    {
     "data": {
      "image/png": "[encoded data removed]",
      "text/plain": [
       "<matplotlib.figure.Figure at 0x7f74b32ac390>"
      ]
     },
     "metadata": {},
     "output_type": "display_data"
    }
   ],
   "source": [
    "fig = plt.figure(2,figsize=(20,10))\n",
    "fig.suptitle(\"XGBoost Optimal Result\")\n",
    "\n",
    "ax = plt.subplot(1,2,1)\n",
    "#ax.plot(FPR[i, :], TPR[i, :])\n",
    "ax.set_title('ROC Curve', fontsize=15)\n",
    "ax.set_xlabel('FPR', fontsize=15)\n",
    "ax.set_ylabel('TPR', fontsize=15)\n",
    "ax = plt.subplot(1,2,2)\n",
    "#ax.plot(Recall[i, :], Precision[i, :])\n",
    "ax.set_title('PR Curve', fontsize=15)\n",
    "ax.set_xlabel('Recall', fontsize=15)\n",
    "ax.set_ylabel('Precision', fontsize=15)\n",
    "plt.savefig(\"rer.png\")"
   ]
  },
  {
   "cell_type": "code",
   "execution_count": 31,
   "metadata": {
    "collapsed": true
   },
   "outputs": [],
   "source": [
    "import time\n",
    "import os, random\n",
    "from multiprocessing import Pool\n",
    "import numpy as np\n",
    "from multiprocessing import Array, sharedctypes\n",
    "import warnings\n"
   ]
  },
  {
   "cell_type": "code",
   "execution_count": 42,
   "metadata": {},
   "outputs": [
    {
     "name": "stdout",
     "output_type": "stream",
     "text": [
      "Parent process 26829.\n",
      "Run task (0,) (13992)...\n",
      "Run task (2,) (13994)...\n",
      "Run task (1,) (13993)...\n",
      "[[ 0.  0.  0.  0.  0.  0.  0.  0.  0.  0.]]\n",
      "[[ 2.  2.  2.  2.  2.  2.  2.  2.  2.  2.]]\n",
      "Run task (4,) (13996)...\n",
      "[[ 1.  1.  1.  1.  1.  1.  1.  1.  1.  1.]]\n",
      "[[ 4.  4.  4.  4.  4.  4.  4.  4.  4.  4.]]\n",
      "Run task (3,) (13995)...\n",
      "[[ 3.  3.  3.  3.  3.  3.  3.  3.  3.  3.]]\n",
      "Task (2,) runs 0.87 seconds\n",
      "Task (3,) runs 0.95 seconds\n",
      "Task (1,) runs 1.37 seconds\n",
      "Task (4,) runs 1.38 seconds\n",
      "Task (0,) runs 2.27 seconds\n",
      "waiting for all subprocesses done...\n",
      "All subprocesses done...\n"
     ]
    }
   ],
   "source": [
    "\n",
    "def long_time_task(name):\n",
    "    with warnings.catch_warnings():\n",
    "        warnings.simplefilter('ignore', RuntimeWarning)\n",
    "        v = np.ctypeslib.as_array(arr)\n",
    "        \n",
    "    print(\"Run task {} ({})...\".format(name, os.getpid()))\n",
    "    start = time.time()\n",
    "    v[name,:] = name#np.random.randint(5, size=(10))\n",
    "    print(v[name,:])\n",
    "    time.sleep(random.random() * 3)\n",
    "    end = time.time()\n",
    "    print(\"Task %s runs %0.2f seconds\"%(name, (end-start)))\n",
    "def _init(arr_to_populate):\n",
    "    global arr\n",
    "    arr = arr_to_populate\n",
    "    \n",
    "if __name__ == \"__main__\":\n",
    "    print(\"Parent process %s.\"%os.getpid())\n",
    "    temp = np.ctypeslib.as_ctypes(np.zeros((5,10)))\n",
    "    shared_arr = sharedctypes.Array(temp._type_, temp, lock=False)\n",
    "    \n",
    "    \n",
    "    p = Pool(processes=8, initializer=_init, initargs=(shared_arr,))\n",
    "    #ar = Array('d',np.zeros((5,10)))\n",
    "    p.map(long_time_task, iterable=zip(range(0,5)))\n",
    "    for i in range(5):\n",
    "        p.apply_async(long_time_task, args=(i))\n",
    "    print(\"waiting for all subprocesses done...\")\n",
    "    p.close()\n",
    "    p.join()\n",
    "    print(\"All subprocesses done...\")"
   ]
  },
  {
   "cell_type": "code",
   "execution_count": 39,
   "metadata": {},
   "outputs": [],
   "source": [
    "with warnings.catch_warnings():\n",
    "    warnings.simplefilter(\"ignore\", RuntimeWarning)\n",
    "    final_arr = np.ctypeslib.as_array(shared_arr)"
   ]
  },
  {
   "cell_type": "code",
   "execution_count": 40,
   "metadata": {},
   "outputs": [
    {
     "data": {
      "text/plain": [
       "array([[ 1.,  1.,  1.,  1.,  1.,  1.,  1.,  1.,  1.,  1.],\n",
       "       [ 1.,  1.,  1.,  1.,  1.,  1.,  1.,  1.,  1.,  1.],\n",
       "       [ 1.,  1.,  1.,  1.,  1.,  1.,  1.,  1.,  1.,  1.],\n",
       "       [ 1.,  1.,  1.,  1.,  1.,  1.,  1.,  1.,  1.,  1.],\n",
       "       [ 1.,  1.,  1.,  1.,  1.,  1.,  1.,  1.,  1.,  1.]])"
      ]
     },
     "execution_count": 40,
     "metadata": {},
     "output_type": "execute_result"
    }
   ],
   "source": [
    "final_arr"
   ]
  },
  {
   "cell_type": "code",
   "execution_count": null,
   "metadata": {
    "collapsed": true
   },
   "outputs": [],
   "source": []
  }
 ],
 "metadata": {
  "kernelspec": {
   "display_name": "Python 3",
   "language": "python",
   "name": "python3"
  },
  "language_info": {
   "codemirror_mode": {
    "name": "ipython",
    "version": 3
   },
   "file_extension": ".py",
   "mimetype": "text/x-python",
   "name": "python",
   "nbconvert_exporter": "python",
   "pygments_lexer": "ipython3",
   "version": "3.6.2"
  }
 },
 "nbformat": 4,
 "nbformat_minor": 2
}
